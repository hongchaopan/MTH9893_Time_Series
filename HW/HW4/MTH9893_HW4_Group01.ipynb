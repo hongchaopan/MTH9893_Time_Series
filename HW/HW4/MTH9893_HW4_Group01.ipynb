{
 "cells": [
  {
   "cell_type": "markdown",
   "metadata": {},
   "source": [
    "## MTH9893 Time Series Analysis HW4\n",
    "* Group 01\n",
    "* Author: Pan, Hongchao & Sun, Yu\n",
    "* Kernel version: **R 3.3.2**\n",
    "* **Packages: urca, vars,strucchange, readxl, sandwich, lmtest, tseries, MASS, repr and zoo**\n",
    "* Data: End of day price of three front crude oil future contracts over past 5 years, i.e., CL1 Comdty, CL2 Comdty and CL3 Comdty.\n",
    "* Notes: \n",
    "    * **Please install the packages listed above if your kernel does not have them** before running the notebook\n",
    "    * Using ca.jo() function in package ***urca*** to retrive Johansen cointegration test\n",
    "    * Using adf.test() function in package ***tseries*** for stationary test\n",
    "    * No good package of Johansen cointegration test has been implemented in Python now\n",
    "    \n",
    "    * Test guildline:\n",
    "        * Step 1: Test whether the time series are $I(1)$ or not\n",
    "        * Step 2: Chose the lag of VAR(p) model, (also the parameter K in ca.jo() function)\n",
    "        * Step 3: Johansen trace cointegration test\n",
    "        * Step 4: Stationary test of VECM\n",
    "        * Step 5: Find the cointegration matrix $a$\n",
    "        * Step 6: Stationary test of \"cointegrating residual process\" $u_t=a^TX_t$\n",
    "    \n",
    "    * The running time of this notebook is around 2s"
   ]
  },
  {
   "cell_type": "code",
   "execution_count": 1,
   "metadata": {
    "collapsed": true
   },
   "outputs": [],
   "source": [
    "# install packages if does not have\n",
    "\n",
    "#install.packages(\"urca\")\n",
    "# Does not work in the jupyter in macbook\n",
    "# The above installation function retrive the package with .tar.gz, \n",
    "# but for macbook binraries it is .tgz and .zip for windows\n",
    "# Thereore install the packages mannually with following steps:\n",
    "# Step1: download corresponding binraries: .tgz or .zip\n",
    "# Step2: unzip the binraries\n",
    "# Step3: copy the folder to the R library under anaconda,\n",
    "#        e.g., my location in Macbook is: ~/anaconda/lib/R/library\n",
    "#              ~ standars for Users/your_user_name\n",
    "# Step4: use the library as following way\n",
    "\n",
    "#Same as urca\n",
    "#install.packages(\"vars\") \n",
    "#install.packages(\"tseries\")\n",
    "#install.packages(\"readxl\")\n",
    "#install.packages(\"sandwich\")\n",
    "#install.packages(\"strucchange\")\n",
    "#install.packages(\"lmtest\")"
   ]
  },
  {
   "cell_type": "code",
   "execution_count": 2,
   "metadata": {
    "collapsed": false
   },
   "outputs": [
    {
     "name": "stderr",
     "output_type": "stream",
     "text": [
      "\n",
      "Attaching package: ‘zoo’\n",
      "\n",
      "The following objects are masked from ‘package:base’:\n",
      "\n",
      "    as.Date, as.Date.numeric\n",
      "\n"
     ]
    }
   ],
   "source": [
    "# Load libraries\n",
    "library(urca)\n",
    "library(sandwich)    # vars required\n",
    "library(zoo)         # sandwich required\n",
    "library(MASS)     # vars required MASS\n",
    "library(strucchange) # vars required\n",
    "library(lmtest)      # vars required\n",
    "library(vars)        # for VARselect() function\n",
    "library(readxl)   # read_excel() function\n",
    "library(repr)    # For changing plot features\n",
    "library(tseries) # For ADF test"
   ]
  },
  {
   "cell_type": "code",
   "execution_count": 3,
   "metadata": {
    "collapsed": true
   },
   "outputs": [],
   "source": [
    "# Record the total running time of this notebook\n",
    "# Starting record the time\n",
    "ptm<-proc.time()"
   ]
  },
  {
   "cell_type": "code",
   "execution_count": 4,
   "metadata": {
    "collapsed": false
   },
   "outputs": [
    {
     "data": {
      "text/html": [
       "<table>\n",
       "<thead><tr><th scope=col>Date</th><th scope=col>CL1_PX_LAST</th><th scope=col>CL2_PX_LAST</th><th scope=col>CL3_PX_LAST</th></tr></thead>\n",
       "<tbody>\n",
       "\t<tr><td>2012-03-02</td><td>106.70    </td><td>107.17    </td><td>107.64    </td></tr>\n",
       "\t<tr><td>2012-03-05</td><td>106.72    </td><td>107.18    </td><td>107.63    </td></tr>\n",
       "\t<tr><td>2012-03-06</td><td>104.70    </td><td>105.21    </td><td>105.75    </td></tr>\n",
       "\t<tr><td>2012-03-07</td><td>106.16    </td><td>106.65    </td><td>107.18    </td></tr>\n",
       "\t<tr><td>2012-03-08</td><td>106.58    </td><td>107.06    </td><td>107.56    </td></tr>\n",
       "\t<tr><td>2012-03-09</td><td>107.40    </td><td>107.87    </td><td>108.33    </td></tr>\n",
       "</tbody>\n",
       "</table>\n"
      ],
      "text/latex": [
       "\\begin{tabular}{r|llll}\n",
       " Date & CL1\\_PX\\_LAST & CL2\\_PX\\_LAST & CL3\\_PX\\_LAST\\\\\n",
       "\\hline\n",
       "\t 2012-03-02 & 106.70     & 107.17     & 107.64    \\\\\n",
       "\t 2012-03-05 & 106.72     & 107.18     & 107.63    \\\\\n",
       "\t 2012-03-06 & 104.70     & 105.21     & 105.75    \\\\\n",
       "\t 2012-03-07 & 106.16     & 106.65     & 107.18    \\\\\n",
       "\t 2012-03-08 & 106.58     & 107.06     & 107.56    \\\\\n",
       "\t 2012-03-09 & 107.40     & 107.87     & 108.33    \\\\\n",
       "\\end{tabular}\n"
      ],
      "text/markdown": [
       "\n",
       "Date | CL1_PX_LAST | CL2_PX_LAST | CL3_PX_LAST | \n",
       "|---|---|---|---|---|---|\n",
       "| 2012-03-02 | 106.70     | 107.17     | 107.64     | \n",
       "| 2012-03-05 | 106.72     | 107.18     | 107.63     | \n",
       "| 2012-03-06 | 104.70     | 105.21     | 105.75     | \n",
       "| 2012-03-07 | 106.16     | 106.65     | 107.18     | \n",
       "| 2012-03-08 | 106.58     | 107.06     | 107.56     | \n",
       "| 2012-03-09 | 107.40     | 107.87     | 108.33     | \n",
       "\n",
       "\n"
      ],
      "text/plain": [
       "  Date       CL1_PX_LAST CL2_PX_LAST CL3_PX_LAST\n",
       "1 2012-03-02 106.70      107.17      107.64     \n",
       "2 2012-03-05 106.72      107.18      107.63     \n",
       "3 2012-03-06 104.70      105.21      105.75     \n",
       "4 2012-03-07 106.16      106.65      107.18     \n",
       "5 2012-03-08 106.58      107.06      107.56     \n",
       "6 2012-03-09 107.40      107.87      108.33     "
      ]
     },
     "metadata": {},
     "output_type": "display_data"
    }
   ],
   "source": [
    "# Read the data form excel file\n",
    "# Reference: https://cran.r-project.org/web/packages/readxl/readxl.pdf\n",
    "df<- read_excel(\"CLs_Daily.xlsx\",sheet = 1,col_names = TRUE, skip = 1)\n",
    "colnames(df)<- c('Date','CL1_PX_LAST','Date2','CL2_PX_LAST','Date3','CL3_PX_LAST')\n",
    "# Remove redundency date\n",
    "vars<- c(\"Date\",\"CL1_PX_LAST\",\"CL2_PX_LAST\",\"CL3_PX_LAST\")\n",
    "df_CLs<- df[vars]\n",
    "head(df_CLs)"
   ]
  },
  {
   "cell_type": "markdown",
   "metadata": {},
   "source": [
    "Table 1. Overview of end of day price of three front crude oil future contracts"
   ]
  },
  {
   "cell_type": "code",
   "execution_count": 5,
   "metadata": {
    "collapsed": false
   },
   "outputs": [
    {
     "data": {
      "text/html": [
       "<table>\n",
       "<thead><tr><th scope=col>Date</th><th scope=col>CL1_diff1</th><th scope=col>CL2_diff1</th><th scope=col>CL3_diff1</th></tr></thead>\n",
       "<tbody>\n",
       "\t<tr><td>2012-03-05</td><td> 0.02     </td><td> 0.01     </td><td>-0.01     </td></tr>\n",
       "\t<tr><td>2012-03-06</td><td>-2.02     </td><td>-1.97     </td><td>-1.88     </td></tr>\n",
       "\t<tr><td>2012-03-07</td><td> 1.46     </td><td> 1.44     </td><td> 1.43     </td></tr>\n",
       "\t<tr><td>2012-03-08</td><td> 0.42     </td><td> 0.41     </td><td> 0.38     </td></tr>\n",
       "\t<tr><td>2012-03-09</td><td> 0.82     </td><td> 0.81     </td><td> 0.77     </td></tr>\n",
       "\t<tr><td>2012-03-12</td><td>-1.06     </td><td>-1.03     </td><td>-0.99     </td></tr>\n",
       "</tbody>\n",
       "</table>\n"
      ],
      "text/latex": [
       "\\begin{tabular}{r|llll}\n",
       " Date & CL1\\_diff1 & CL2\\_diff1 & CL3\\_diff1\\\\\n",
       "\\hline\n",
       "\t 2012-03-05 &  0.02      &  0.01      & -0.01     \\\\\n",
       "\t 2012-03-06 & -2.02      & -1.97      & -1.88     \\\\\n",
       "\t 2012-03-07 &  1.46      &  1.44      &  1.43     \\\\\n",
       "\t 2012-03-08 &  0.42      &  0.41      &  0.38     \\\\\n",
       "\t 2012-03-09 &  0.82      &  0.81      &  0.77     \\\\\n",
       "\t 2012-03-12 & -1.06      & -1.03      & -0.99     \\\\\n",
       "\\end{tabular}\n"
      ],
      "text/markdown": [
       "\n",
       "Date | CL1_diff1 | CL2_diff1 | CL3_diff1 | \n",
       "|---|---|---|---|---|---|\n",
       "| 2012-03-05 |  0.02      |  0.01      | -0.01      | \n",
       "| 2012-03-06 | -2.02      | -1.97      | -1.88      | \n",
       "| 2012-03-07 |  1.46      |  1.44      |  1.43      | \n",
       "| 2012-03-08 |  0.42      |  0.41      |  0.38      | \n",
       "| 2012-03-09 |  0.82      |  0.81      |  0.77      | \n",
       "| 2012-03-12 | -1.06      | -1.03      | -0.99      | \n",
       "\n",
       "\n"
      ],
      "text/plain": [
       "  Date       CL1_diff1 CL2_diff1 CL3_diff1\n",
       "1 2012-03-05  0.02      0.01     -0.01    \n",
       "2 2012-03-06 -2.02     -1.97     -1.88    \n",
       "3 2012-03-07  1.46      1.44      1.43    \n",
       "4 2012-03-08  0.42      0.41      0.38    \n",
       "5 2012-03-09  0.82      0.81      0.77    \n",
       "6 2012-03-12 -1.06     -1.03     -0.99    "
      ]
     },
     "metadata": {},
     "output_type": "display_data"
    }
   ],
   "source": [
    "# Compute the 1st order differential of three time series\n",
    "CL1_diff1<- diff(df_CLs[,\"CL1_PX_LAST\"],differences = 1)\n",
    "CL2_diff1<- diff(df_CLs[,\"CL2_PX_LAST\"],differences = 1)\n",
    "CL3_diff1<- diff(df_CLs[,\"CL3_PX_LAST\"],differences = 1)\n",
    "df_CLs_diff1<- data.frame(df_CLs[2:length(df_CLs[,\"Date\"]),\"Date\"],CL1_diff1,CL2_diff1,CL3_diff1)\n",
    "colnames(df_CLs_diff1)<- c(\"Date\",\"CL1_diff1\",\"CL2_diff1\",\"CL3_diff1\")\n",
    "head(df_CLs_diff1)"
   ]
  },
  {
   "cell_type": "markdown",
   "metadata": {
    "collapsed": false
   },
   "source": [
    "Table 2. Overview of 1st order differential of three front crude oil future contracts"
   ]
  },
  {
   "cell_type": "code",
   "execution_count": 6,
   "metadata": {
    "collapsed": false
   },
   "outputs": [
    {
     "data": {
      "image/png": "[encoded data removed]",
      "text/plain": [
       "plot without title"
      ]
     },
     "metadata": {},
     "output_type": "display_data"
    }
   ],
   "source": [
    "# Plot the 1st differential of CLs (returns)\n",
    "options(repr.plot.height=3, repr.plot.width=6)\n",
    "par(mfrow = c(1,3)) # combine the 4 plots in a 2 by 2 window filled by the row\n",
    "plot(x=df_CLs_diff1[,'Date'],y=df_CLs_diff1[,\"CL1_diff1\"],type='l',\n",
    "    xlab='Date',ylab='CL1_diff1',col='red')\n",
    "\n",
    "plot(x=df_CLs_diff1[,'Date'],y=df_CLs_diff1[,\"CL2_diff1\"],type='l',\n",
    "    xlab='Date',ylab='CL1_diff2',col='blue')\n",
    "\n",
    "plot(x=df_CLs_diff1[,'Date'],y=df_CLs_diff1[,\"CL3_diff1\"],type='l',\n",
    "    xlab='Date',ylab='CL1_diff3',col='orange')"
   ]
  },
  {
   "cell_type": "markdown",
   "metadata": {},
   "source": [
    "Figure 1. Plots of 1st order differential of three front crude oil future contracts"
   ]
  },
  {
   "cell_type": "markdown",
   "metadata": {},
   "source": [
    "**Observation:**\n",
    "* The figure shows the returns of three time series are stationary, we can import ADF test to check"
   ]
  },
  {
   "cell_type": "markdown",
   "metadata": {},
   "source": [
    "#### Stationary test of all three front crude oil future contracts and their 1st order differential"
   ]
  },
  {
   "cell_type": "code",
   "execution_count": 7,
   "metadata": {
    "collapsed": false
   },
   "outputs": [
    {
     "name": "stderr",
     "output_type": "stream",
     "text": [
      "Warning message in adf.test(df_CLs_diff1[, \"CL1_diff1\"]):\n",
      "“p-value smaller than printed p-value”Warning message in adf.test(df_CLs_diff1[, \"CL2_diff1\"]):\n",
      "“p-value smaller than printed p-value”Warning message in adf.test(df_CLs_diff1[, \"CL3_diff1\"]):\n",
      "“p-value smaller than printed p-value”"
     ]
    },
    {
     "data": {
      "text/html": [
       "<table>\n",
       "<thead><tr><th scope=col>TS Name</th><th scope=col>p-value</th></tr></thead>\n",
       "<tbody>\n",
       "\t<tr><td>CL1      </td><td>0.7869190</td></tr>\n",
       "\t<tr><td>CL2      </td><td>0.7764402</td></tr>\n",
       "\t<tr><td>CL3      </td><td>0.7760485</td></tr>\n",
       "\t<tr><td>CL1_diff1</td><td>0.0100000</td></tr>\n",
       "\t<tr><td>CL2_diff1</td><td>0.0100000</td></tr>\n",
       "\t<tr><td>CL3_diff1</td><td>0.0100000</td></tr>\n",
       "</tbody>\n",
       "</table>\n"
      ],
      "text/latex": [
       "\\begin{tabular}{r|ll}\n",
       " TS Name & p-value\\\\\n",
       "\\hline\n",
       "\t CL1       & 0.7869190\\\\\n",
       "\t CL2       & 0.7764402\\\\\n",
       "\t CL3       & 0.7760485\\\\\n",
       "\t CL1\\_diff1 & 0.0100000  \\\\\n",
       "\t CL2\\_diff1 & 0.0100000  \\\\\n",
       "\t CL3\\_diff1 & 0.0100000  \\\\\n",
       "\\end{tabular}\n"
      ],
      "text/markdown": [
       "\n",
       "TS Name | p-value | \n",
       "|---|---|---|---|---|---|\n",
       "| CL1       | 0.7869190 | \n",
       "| CL2       | 0.7764402 | \n",
       "| CL3       | 0.7760485 | \n",
       "| CL1_diff1 | 0.0100000 | \n",
       "| CL2_diff1 | 0.0100000 | \n",
       "| CL3_diff1 | 0.0100000 | \n",
       "\n",
       "\n"
      ],
      "text/plain": [
       "  TS Name   p-value  \n",
       "1 CL1       0.7869190\n",
       "2 CL2       0.7764402\n",
       "3 CL3       0.7760485\n",
       "4 CL1_diff1 0.0100000\n",
       "5 CL2_diff1 0.0100000\n",
       "6 CL3_diff1 0.0100000"
      ]
     },
     "metadata": {},
     "output_type": "display_data"
    }
   ],
   "source": [
    "# ADF stationary test\n",
    "adfCL1<- adf.test(df_CLs[,\"CL1_PX_LAST\"])\n",
    "adfCL2<- adf.test(df_CLs[,\"CL2_PX_LAST\"])\n",
    "adfCL3<- adf.test(df_CLs[,\"CL3_PX_LAST\"])\n",
    "adfCL1diff<- adf.test(df_CLs_diff1[,\"CL1_diff1\"])\n",
    "adfCL2diff<- adf.test(df_CLs_diff1[,\"CL2_diff1\"])\n",
    "adfCL3diff<- adf.test(df_CLs_diff1[,\"CL3_diff1\"])\n",
    "\n",
    "pval<- c(adfCL1$p.value,adfCL2$p.value,adfCL3$p.value,\n",
    "        adfCL1diff$p.value,adfCL2diff$p.value,adfCL3diff$p.value)\n",
    "TSname<-c(\"CL1\",\"CL2\",\"CL3\",\"CL1_diff1\",\"CL2_diff1\",\"CL3_diff1\")\n",
    "CLsRes<- data.frame(TSname,pval)\n",
    "colnames(CLsRes)<-c(\"TS Name\",\"p-value\")\n",
    "CLsRes\n",
    "#adfCL1\n",
    "#adfCL2\n",
    "#adfCL3\n",
    "#adfCL1diff\n",
    "#adfCL2diff\n",
    "#adfCL3diff"
   ]
  },
  {
   "cell_type": "markdown",
   "metadata": {},
   "source": [
    "Table 3. ADF stationary test of three time series and their 1st order differential"
   ]
  },
  {
   "cell_type": "markdown",
   "metadata": {},
   "source": [
    "**Observation:**\n",
    "\n",
    "* The p-values of all three tests are much larger than 0.01, i.e., 99% confidence interval. Therefore, all the three front crude oil future contracts are non-stationary.\n",
    "\n",
    "* The p-values of three 1st order differential time series are smaller than 0.01 (see warning messages).\n",
    "\n",
    "* Therefore the three front crude oil future contracts are $I(1)$."
   ]
  },
  {
   "cell_type": "markdown",
   "metadata": {
    "collapsed": true
   },
   "source": [
    "#### Choose the lag of VAR(p) model for the next Johansen cointegration test\n",
    "\n",
    "* Reference: https://cran.r-project.org/web/packages/vars/vars.pdf \n",
    "* P47 VARselect() function"
   ]
  },
  {
   "cell_type": "code",
   "execution_count": 8,
   "metadata": {
    "collapsed": false
   },
   "outputs": [
    {
     "data": {
      "text/html": [
       "<dl>\n",
       "\t<dt>$selection</dt>\n",
       "\t\t<dd><dl class=dl-horizontal>\n",
       "\t<dt>AIC(n)</dt>\n",
       "\t\t<dd>7</dd>\n",
       "\t<dt>HQ(n)</dt>\n",
       "\t\t<dd>2</dd>\n",
       "\t<dt>SC(n)</dt>\n",
       "\t\t<dd>2</dd>\n",
       "\t<dt>FPE(n)</dt>\n",
       "\t\t<dd>7</dd>\n",
       "</dl>\n",
       "</dd>\n",
       "\t<dt>$criteria</dt>\n",
       "\t\t<dd><table>\n",
       "<thead><tr><th></th><th scope=col>1</th><th scope=col>2</th><th scope=col>3</th><th scope=col>4</th><th scope=col>5</th><th scope=col>6</th><th scope=col>7</th><th scope=col>8</th><th scope=col>9</th><th scope=col>10</th><th scope=col>⋯</th><th scope=col>21</th><th scope=col>22</th><th scope=col>23</th><th scope=col>24</th><th scope=col>25</th><th scope=col>26</th><th scope=col>27</th><th scope=col>28</th><th scope=col>29</th><th scope=col>30</th></tr></thead>\n",
       "<tbody>\n",
       "\t<tr><th scope=row>AIC(n)</th><td>-8.6204708619</td><td>-8.6792042482</td><td>-8.6821557484</td><td>-8.6815716386</td><td>-8.6788004698</td><td>-8.685347300 </td><td>-8.6903872440</td><td>-8.6869865021</td><td>-8.686055795 </td><td>-8.6798550684</td><td>⋯            </td><td>-8.6325395928</td><td>-8.6348288625</td><td>-8.6771862967</td><td>-8.670338017 </td><td>-8.6596282574</td><td>-8.6486315059</td><td>-8.640017385 </td><td>-8.63040821  </td><td>-8.6217141839</td><td>-8.6114308517</td></tr>\n",
       "\t<tr><th scope=row>HQ(n)</th><td>-8.6016967579</td><td>-8.6463495663</td><td>-8.6352204885</td><td>-8.6205558008</td><td>-8.6037040540</td><td>-8.596170306 </td><td>-8.5871296722</td><td>-8.5696483524</td><td>-8.554637067 </td><td>-8.5343557628</td><td>⋯            </td><td>-8.3321539297</td><td>-8.3203626214</td><td>-8.3486394776</td><td>-8.327710620 </td><td>-8.3029202824</td><td>-8.2778429529</td><td>-8.255148254 </td><td>-8.23145851  </td><td>-8.2086838970</td><td>-8.1843199868</td></tr>\n",
       "\t<tr><th scope=row>SC(n)</th><td>-8.5705706721</td><td>-8.5918789162</td><td>-8.5574052740</td><td>-8.5193960219</td><td>-8.4791997108</td><td>-8.448321398 </td><td>-8.4159362004</td><td>-8.3751103163</td><td>-8.336754467 </td><td>-8.2931285979</td><td>⋯            </td><td>-7.8341365570</td><td>-7.7990006844</td><td>-7.8039329763</td><td>-7.759659555 </td><td>-7.7115246524</td><td>-7.6631027585</td><td>-7.617063496 </td><td>-7.57002918  </td><td>-7.5239100096</td><td>-7.4762015351</td></tr>\n",
       "\t<tr><th scope=row>FPE(n)</th><td> 0.0001803753</td><td> 0.0001700864</td><td> 0.0001695853</td><td> 0.0001696846</td><td> 0.0001701558</td><td> 0.000169046 </td><td> 0.0001681968</td><td> 0.0001687707</td><td> 0.000168929 </td><td> 0.0001699811</td><td>⋯            </td><td> 0.0001782618</td><td> 0.0001778616</td><td> 0.0001704929</td><td> 0.000171673 </td><td> 0.0001735308</td><td> 0.0001754599</td><td> 0.000176989 </td><td> 0.00017871  </td><td> 0.0001802836</td><td> 0.0001821613</td></tr>\n",
       "</tbody>\n",
       "</table>\n",
       "</dd>\n",
       "</dl>\n"
      ],
      "text/latex": [
       "\\begin{description}\n",
       "\\item[\\$selection] \\begin{description*}\n",
       "\\item[AIC(n)] 7\n",
       "\\item[HQ(n)] 2\n",
       "\\item[SC(n)] 2\n",
       "\\item[FPE(n)] 7\n",
       "\\end{description*}\n",
       "\n",
       "\\item[\\$criteria] \\begin{tabular}{r|llllllllllllllllllllllllllllll}\n",
       "  & 1 & 2 & 3 & 4 & 5 & 6 & 7 & 8 & 9 & 10 & ⋯ & 21 & 22 & 23 & 24 & 25 & 26 & 27 & 28 & 29 & 30\\\\\n",
       "\\hline\n",
       "\tAIC(n) & -8.6204708619 & -8.6792042482 & -8.6821557484 & -8.6815716386 & -8.6788004698 & -8.685347300  & -8.6903872440 & -8.6869865021 & -8.686055795  & -8.6798550684 & ⋯             & -8.6325395928 & -8.6348288625 & -8.6771862967 & -8.670338017  & -8.6596282574 & -8.6486315059 & -8.640017385  & -8.63040821   & -8.6217141839 & -8.6114308517\\\\\n",
       "\tHQ(n) & -8.6016967579 & -8.6463495663 & -8.6352204885 & -8.6205558008 & -8.6037040540 & -8.596170306  & -8.5871296722 & -8.5696483524 & -8.554637067  & -8.5343557628 & ⋯             & -8.3321539297 & -8.3203626214 & -8.3486394776 & -8.327710620  & -8.3029202824 & -8.2778429529 & -8.255148254  & -8.23145851   & -8.2086838970 & -8.1843199868\\\\\n",
       "\tSC(n) & -8.5705706721 & -8.5918789162 & -8.5574052740 & -8.5193960219 & -8.4791997108 & -8.448321398  & -8.4159362004 & -8.3751103163 & -8.336754467  & -8.2931285979 & ⋯             & -7.8341365570 & -7.7990006844 & -7.8039329763 & -7.759659555  & -7.7115246524 & -7.6631027585 & -7.617063496  & -7.57002918   & -7.5239100096 & -7.4762015351\\\\\n",
       "\tFPE(n) &  0.0001803753 &  0.0001700864 &  0.0001695853 &  0.0001696846 &  0.0001701558 &  0.000169046  &  0.0001681968 &  0.0001687707 &  0.000168929  &  0.0001699811 & ⋯             &  0.0001782618 &  0.0001778616 &  0.0001704929 &  0.000171673  &  0.0001735308 &  0.0001754599 &  0.000176989  &  0.00017871   &  0.0001802836 &  0.0001821613\\\\\n",
       "\\end{tabular}\n",
       "\n",
       "\\end{description}\n"
      ],
      "text/markdown": [
       "$selection\n",
       ":   AIC(n)\n",
       ":   7HQ(n)\n",
       ":   2SC(n)\n",
       ":   2FPE(n)\n",
       ":   7\n",
       "\n",
       "\n",
       "$criteria\n",
       ":   \n",
       "| <!--/--> | 1 | 2 | 3 | 4 | 5 | 6 | 7 | 8 | 9 | 10 | ⋯ | 21 | 22 | 23 | 24 | 25 | 26 | 27 | 28 | 29 | 30 | \n",
       "|---|---|---|---|\n",
       "| AIC(n) | -8.6204708619 | -8.6792042482 | -8.6821557484 | -8.6815716386 | -8.6788004698 | -8.685347300  | -8.6903872440 | -8.6869865021 | -8.686055795  | -8.6798550684 | ⋯             | -8.6325395928 | -8.6348288625 | -8.6771862967 | -8.670338017  | -8.6596282574 | -8.6486315059 | -8.640017385  | -8.63040821   | -8.6217141839 | -8.6114308517 | \n",
       "| HQ(n) | -8.6016967579 | -8.6463495663 | -8.6352204885 | -8.6205558008 | -8.6037040540 | -8.596170306  | -8.5871296722 | -8.5696483524 | -8.554637067  | -8.5343557628 | ⋯             | -8.3321539297 | -8.3203626214 | -8.3486394776 | -8.327710620  | -8.3029202824 | -8.2778429529 | -8.255148254  | -8.23145851   | -8.2086838970 | -8.1843199868 | \n",
       "| SC(n) | -8.5705706721 | -8.5918789162 | -8.5574052740 | -8.5193960219 | -8.4791997108 | -8.448321398  | -8.4159362004 | -8.3751103163 | -8.336754467  | -8.2931285979 | ⋯             | -7.8341365570 | -7.7990006844 | -7.8039329763 | -7.759659555  | -7.7115246524 | -7.6631027585 | -7.617063496  | -7.57002918   | -7.5239100096 | -7.4762015351 | \n",
       "| FPE(n) |  0.0001803753 |  0.0001700864 |  0.0001695853 |  0.0001696846 |  0.0001701558 |  0.000169046  |  0.0001681968 |  0.0001687707 |  0.000168929  |  0.0001699811 | ⋯             |  0.0001782618 |  0.0001778616 |  0.0001704929 |  0.000171673  |  0.0001735308 |  0.0001754599 |  0.000176989  |  0.00017871   |  0.0001802836 |  0.0001821613 | \n",
       "\n",
       "\n",
       "\n",
       "\n",
       "\n"
      ],
      "text/plain": [
       "$selection\n",
       "AIC(n)  HQ(n)  SC(n) FPE(n) \n",
       "     7      2      2      7 \n",
       "\n",
       "$criteria\n",
       "                   1             2             3             4             5\n",
       "AIC(n) -8.6204708619 -8.6792042482 -8.6821557484 -8.6815716386 -8.6788004698\n",
       "HQ(n)  -8.6016967579 -8.6463495663 -8.6352204885 -8.6205558008 -8.6037040540\n",
       "SC(n)  -8.5705706721 -8.5918789162 -8.5574052740 -8.5193960219 -8.4791997108\n",
       "FPE(n)  0.0001803753  0.0001700864  0.0001695853  0.0001696846  0.0001701558\n",
       "                  6             7             8            9            10\n",
       "AIC(n) -8.685347300 -8.6903872440 -8.6869865021 -8.686055795 -8.6798550684\n",
       "HQ(n)  -8.596170306 -8.5871296722 -8.5696483524 -8.554637067 -8.5343557628\n",
       "SC(n)  -8.448321398 -8.4159362004 -8.3751103163 -8.336754467 -8.2931285979\n",
       "FPE(n)  0.000169046  0.0001681968  0.0001687707  0.000168929  0.0001699811\n",
       "                 11            12            13            14            15\n",
       "AIC(n) -8.676107862 -8.6683328368 -8.6594500819 -8.6519055992 -8.6464524326\n",
       "HQ(n)  -8.516527978 -8.4946723753 -8.4717090424 -8.4500839818 -8.4305502372\n",
       "SC(n)  -8.251956249 -8.2067560817 -8.1604481845 -8.1154785595 -8.0726002506\n",
       "FPE(n)  0.000170621  0.0001719549  0.0001734916  0.0001748084  0.0001757676\n",
       "                  16            17            18            19            20\n",
       "AIC(n) -8.6453380799 -8.6534928380 -8.6441389753 -8.6383029838 -8.6319642409\n",
       "HQ(n)  -8.4153553065 -8.4094294867 -8.3859950460 -8.3660784766 -8.3456591557\n",
       "SC(n)  -8.0340607556 -8.0047903714 -7.9580113664 -7.9147502326 -7.8709863474\n",
       "FPE(n)  0.0001759675  0.0001745426  0.0001761878  0.0001772245  0.0001783576\n",
       "                  21            22            23           24            25\n",
       "AIC(n) -8.6325395928 -8.6348288625 -8.6771862967 -8.670338017 -8.6596282574\n",
       "HQ(n)  -8.3321539297 -8.3203626214 -8.3486394776 -8.327710620 -8.3029202824\n",
       "SC(n)  -7.8341365570 -7.7990006844 -7.8039329763 -7.759659555 -7.7115246524\n",
       "FPE(n)  0.0001782618  0.0001778616  0.0001704929  0.000171673  0.0001735308\n",
       "                  26           27          28            29            30\n",
       "AIC(n) -8.6486315059 -8.640017385 -8.63040821 -8.6217141839 -8.6114308517\n",
       "HQ(n)  -8.2778429529 -8.255148254 -8.23145851 -8.2086838970 -8.1843199868\n",
       "SC(n)  -7.6631027585 -7.617063496 -7.57002918 -7.5239100096 -7.4762015351\n",
       "FPE(n)  0.0001754599  0.000176989  0.00017871  0.0001802836  0.0001821613\n"
      ]
     },
     "metadata": {},
     "output_type": "display_data"
    }
   ],
   "source": [
    "# Select the lag of VAR(p) model\n",
    "# Set the maxlags=30, since the running time is fast due to \n",
    "# VARselect uses OLS not MLE\n",
    "lagRes<- VARselect(df_CLs[,c(\"CL1_PX_LAST\",\"CL2_PX_LAST\",\"CL3_PX_LAST\")],\n",
    "                  lag.max=30)\n",
    "lagRes"
   ]
  },
  {
   "cell_type": "markdown",
   "metadata": {},
   "source": [
    "Table 4. Lag selecting results of VAR(p) model with maxlags=30"
   ]
  },
  {
   "cell_type": "markdown",
   "metadata": {},
   "source": [
    "#### Johansen trace cointegration test for multivariate time series\n",
    "\n",
    "* Choose **VAR(7)** model based on the AIC results from table 2\n",
    "* VECM type: longrun\n",
    "* Reference: https://cran.r-project.org/web/packages/urca/urca.pdf\n",
    "* P10-P11 ca.jo() function"
   ]
  },
  {
   "cell_type": "code",
   "execution_count": 9,
   "metadata": {
    "collapsed": false
   },
   "outputs": [
    {
     "data": {
      "text/plain": [
       "\n",
       "###################### \n",
       "# Johansen-Procedure # \n",
       "###################### \n",
       "\n",
       "Test type: trace statistic , with linear trend \n",
       "\n",
       "Eigenvalues (lambda):\n",
       "[1] 0.027955783 0.009167288 0.001404094\n",
       "\n",
       "Values of teststatistic and critical values of test:\n",
       "\n",
       "          test 10pct  5pct  1pct\n",
       "r <= 2 |  1.76  6.50  8.18 11.65\n",
       "r <= 1 | 13.30 15.66 17.95 23.52\n",
       "r = 0  | 48.83 28.71 31.52 37.22\n",
       "\n",
       "Eigenvectors, normalised to first column:\n",
       "(These are the cointegration relations)\n",
       "\n",
       "               CL1_PX_LAST.l7 CL2_PX_LAST.l7 CL3_PX_LAST.l7\n",
       "CL1_PX_LAST.l7      1.0000000        1.00000      1.0000000\n",
       "CL2_PX_LAST.l7     -1.8581130      -26.53851     -1.5975899\n",
       "CL3_PX_LAST.l7      0.8556115       26.07948      0.7672858\n",
       "\n",
       "Weights W:\n",
       "(This is the loading matrix)\n",
       "\n",
       "              CL1_PX_LAST.l7 CL2_PX_LAST.l7 CL3_PX_LAST.l7\n",
       "CL1_PX_LAST.d     -0.2721365   0.0016155050    -0.01024643\n",
       "CL2_PX_LAST.d     -0.1686680   0.0014719817    -0.01042902\n",
       "CL3_PX_LAST.d     -0.1409623   0.0008585245    -0.01033982\n"
      ]
     },
     "metadata": {},
     "output_type": "display_data"
    }
   ],
   "source": [
    "# Johansen trace test\n",
    "ciRes<- ca.jo(x=df_CLs[,c(\"CL1_PX_LAST\",\"CL2_PX_LAST\",\"CL3_PX_LAST\")],\n",
    "             type='trace',K=7,spec='longrun')\n",
    "summary(ciRes)"
   ]
  },
  {
   "cell_type": "markdown",
   "metadata": {},
   "source": [
    "Table 3. Johansen trace cointegration test results of front crude oil future contracts"
   ]
  },
  {
   "cell_type": "markdown",
   "metadata": {},
   "source": [
    "#### Interpretation of the Johansen trace cointegration test results\n",
    "\n",
    "* Reference: https://www.quantstart.com/articles/Johansen-Test-for-Cointegrating-Time-Series-Analysis-in-R"
   ]
  },
  {
   "cell_type": "markdown",
   "metadata": {},
   "source": [
    "1. The largest eigenvalue is around 0.028\n",
    "\n",
    "2. For first hypothesis, $r$=0, tests for the presence of cointegration.\n",
    "    \n",
    "    * It is clear that since the test statistic exceeds the 1% level significantly (48.83>37.22) that we have strong evidence to **reject the null hypothesis of no cointegration, i.e., there is cointegration between CLs**.\n",
    "\n",
    "3. Second hypothesis, $r$=1\n",
    "    \n",
    "    * The second test for $r \\le 1$ against the alternative hypothesis of $r>1$ also provides clear evidence to **accept $r \\le 1$ **since the test statistic **does not exceed the 1% level (13.30<23.52)**\n",
    " \n",
    "4. Therefore, three front crude oil future contracts conintegrated with rank 1"
   ]
  },
  {
   "cell_type": "markdown",
   "metadata": {},
   "source": [
    "#### Analyze VECM after confirm the cointegration rank is 1"
   ]
  },
  {
   "cell_type": "markdown",
   "metadata": {},
   "source": [
    "* From the results above in table 3, we found that the largest eigenvalue is 1st eigenvalue, 0.027955783. Therefore the corresponding coefficients of eigenvectors (CL1_PX_LAST,CL2_PX_LAST,CL3_PX_LAST) are the first column (also showed in the results, *'Eigenvectors, normalised to first column')\n",
    "\n",
    "* Use the coefficients (1.0000000, -1.8581130, 0.8556115) to construct the linear combination of three crude oil future contracts as following:"
   ]
  },
  {
   "cell_type": "code",
   "execution_count": 10,
   "metadata": {
    "collapsed": true
   },
   "outputs": [],
   "source": [
    "vecm<- 1*df_CLs[,'CL1_PX_LAST'] -1.8581130*df_CLs[,'CL2_PX_LAST'] +\n",
    "0.8556115*df_CLs[,'CL3_PX_LAST']"
   ]
  },
  {
   "cell_type": "code",
   "execution_count": 11,
   "metadata": {
    "collapsed": false
   },
   "outputs": [
    {
     "data": {
      "image/png": "[encoded data removed]",
      "text/plain": [
       "Plot with title “Plot of VECM”"
      ]
     },
     "metadata": {},
     "output_type": "display_data"
    }
   ],
   "source": [
    "# Plot the time series\n",
    "options(repr.plot.height=3, repr.plot.width=6)\n",
    "plot(vecm,type='l',ylab='VECM',main='Plot of VECM')"
   ]
  },
  {
   "cell_type": "markdown",
   "metadata": {},
   "source": [
    "Figure 2. VECM plot formed from CL1, CL2, and CL3 end of day price time series"
   ]
  },
  {
   "cell_type": "markdown",
   "metadata": {},
   "source": [
    "Visually this looks like a stationary time series, we import the Augmented Dickey-Fuller (ADF) test as an additional check:"
   ]
  },
  {
   "cell_type": "code",
   "execution_count": 12,
   "metadata": {
    "collapsed": false
   },
   "outputs": [
    {
     "data": {
      "text/plain": [
       "\n",
       "\tAugmented Dickey-Fuller Test\n",
       "\n",
       "data:  vecm\n",
       "Dickey-Fuller = -3.8672, Lag order = 10, p-value = 0.01563\n",
       "alternative hypothesis: stationary\n"
      ]
     },
     "metadata": {},
     "output_type": "display_data"
    }
   ],
   "source": [
    "adfRes<- adf.test(vecm)\n",
    "adfRes"
   ]
  },
  {
   "cell_type": "markdown",
   "metadata": {},
   "source": [
    "Table 4. ADF test results of VECM"
   ]
  },
  {
   "cell_type": "markdown",
   "metadata": {},
   "source": [
    "* The p-value of VECM is $0.01<0.01563<0.05$, we can conclude the VECM is staionary with 95% confidence interval.\n",
    "\n",
    "* Therefore ADF test result is consistent with the visually look, i.e., the VECM formed from linear combination with coefficients from Johansen trace conintegration test is stationary."
   ]
  },
  {
   "cell_type": "markdown",
   "metadata": {},
   "source": [
    "#### Find the cointegration matrix $a \\in \\text{Mat}_{n,r}$\n",
    "\n",
    "* Since the rank $r=1$, we can use linear regression to find the vector $a_{3,1}$"
   ]
  },
  {
   "cell_type": "code",
   "execution_count": 13,
   "metadata": {
    "collapsed": false
   },
   "outputs": [
    {
     "data": {
      "text/html": [
       "<dl class=dl-horizontal>\n",
       "\t<dt>(Intercept)</dt>\n",
       "\t\t<dd>-0.239620481131954</dd>\n",
       "\t<dt>df_CLs[, \"CL2_PX_LAST\"]</dt>\n",
       "\t\t<dd>1.87868790014297</dd>\n",
       "\t<dt>df_CLs[, \"CL3_PX_LAST\"]</dt>\n",
       "\t\t<dd>-0.877270561522235</dd>\n",
       "</dl>\n"
      ],
      "text/latex": [
       "\\begin{description*}\n",
       "\\item[(Intercept)] -0.239620481131954\n",
       "\\item[df\\textbackslash{}\\_CLs\\{{[}\\}, \"CL2\\textbackslash{}\\_PX\\textbackslash{}\\_LAST\"\\{{]}\\}] 1.87868790014297\n",
       "\\item[df\\textbackslash{}\\_CLs\\{{[}\\}, \"CL3\\textbackslash{}\\_PX\\textbackslash{}\\_LAST\"\\{{]}\\}] -0.877270561522235\n",
       "\\end{description*}\n"
      ],
      "text/markdown": [
       "(Intercept)\n",
       ":   -0.239620481131954df_CLs[, \"CL2_PX_LAST\"]\n",
       ":   1.87868790014297df_CLs[, \"CL3_PX_LAST\"]\n",
       ":   -0.877270561522235\n",
       "\n"
      ],
      "text/plain": [
       "            (Intercept) df_CLs[, \"CL2_PX_LAST\"] df_CLs[, \"CL3_PX_LAST\"] \n",
       "             -0.2396205               1.8786879              -0.8772706 "
      ]
     },
     "metadata": {},
     "output_type": "display_data"
    }
   ],
   "source": [
    "# Linear regression of CL1 regress on CL2 and CL3 with constant term\n",
    "OLS<- lm(df_CLs[,'CL1_PX_LAST']~df_CLs[,'CL2_PX_LAST']+df_CLs[,'CL3_PX_LAST'])\n",
    "OLS$coefficients"
   ]
  },
  {
   "cell_type": "markdown",
   "metadata": {},
   "source": [
    "From OLS results we can get the vector $a_{3,1}=(1,-1.87868790014297,0.877270561522235)^T$. \n",
    "\n",
    "Therefore, we can test \"cointegrating residual process\" $u_t=a^T(\\text{CL1,CL2,CL3})^T$"
   ]
  },
  {
   "cell_type": "code",
   "execution_count": 14,
   "metadata": {
    "collapsed": false
   },
   "outputs": [
    {
     "data": {
      "image/png": "[encoded data removed]",
      "text/plain": [
       "Plot with title “Plot of cointegrating residual process”"
      ]
     },
     "metadata": {},
     "output_type": "display_data"
    }
   ],
   "source": [
    "# Cointegrating residual process\n",
    "ut<- 1*df_CLs[,'CL1_PX_LAST'] -1.87868790014297*df_CLs[,'CL2_PX_LAST'] +\n",
    "0.877270561522235*df_CLs[,'CL3_PX_LAST']\n",
    "# Plot the data of ut\n",
    "options(repr.plot.height=3, repr.plot.width=6)\n",
    "plot(ut,type='l',col='red',ylab='ut',main='Plot of cointegrating residual process')"
   ]
  },
  {
   "cell_type": "markdown",
   "metadata": {},
   "source": [
    "Figure 3. Cointegrating residual process plot of three time series premultiply by the transpose of cointegration matrix ($a^T$)"
   ]
  },
  {
   "cell_type": "markdown",
   "metadata": {},
   "source": [
    "**Observation:**\n",
    "* The plot looks very close to VECM and looks like stationary, we import Augmented Dickey-Fuller (ADF) as additional check:"
   ]
  },
  {
   "cell_type": "code",
   "execution_count": 15,
   "metadata": {
    "collapsed": false
   },
   "outputs": [
    {
     "data": {
      "text/plain": [
       "\n",
       "\tAugmented Dickey-Fuller Test\n",
       "\n",
       "data:  ut\n",
       "Dickey-Fuller = -3.8535, Lag order = 10, p-value = 0.01632\n",
       "alternative hypothesis: stationary\n"
      ]
     },
     "metadata": {},
     "output_type": "display_data"
    }
   ],
   "source": [
    "adf_ut<-adf.test(ut)\n",
    "adf_ut"
   ]
  },
  {
   "cell_type": "markdown",
   "metadata": {},
   "source": [
    "Table 5. The ADF result of \"cointegrating residual process\""
   ]
  },
  {
   "cell_type": "markdown",
   "metadata": {},
   "source": [
    "* The p-value of VECM is $0.01<0.01632<0.05$, we can conclude the cointegration residual process is staionary with 95% confidence interval.\n",
    "\n",
    "* The result is very close to the ADF test of VECM"
   ]
  },
  {
   "cell_type": "markdown",
   "metadata": {},
   "source": [
    "### Final results of Q1"
   ]
  },
  {
   "cell_type": "markdown",
   "metadata": {},
   "source": [
    "* The largest eigenvalue is 0.027955783\n",
    "<br><br>\n",
    "\n",
    "* VECM formed from linear combination of CL1_PX_LAST, CL2_PX_LAST, CL3_PXLAST is stationary with 95% conficence interval.\n",
    "<br><br>\n",
    "\n",
    "* The cointegration matrix is $a_{3,1}=(1,-1.87868790014297,0.877270561522235)^T$, which is close to the coefficients of VECM. And the \"cointegrating residual process\" is stationary with 95% confidence interval.\n",
    "<br><br>\n",
    "\n",
    "* Therefore, three front crude oil future contracts has conintegration with rank = 1 and cointeration matrix $a_{3,1}=(1,-1.87868790014297,0.877270561522235)^T$.\n"
   ]
  },
  {
   "cell_type": "code",
   "execution_count": 16,
   "metadata": {
    "collapsed": false
   },
   "outputs": [
    {
     "name": "stdout",
     "output_type": "stream",
     "text": [
      "The running time of this notebooks is:"
     ]
    },
    {
     "data": {
      "text/plain": [
       "   user  system elapsed \n",
       "  1.187   0.081   1.521 "
      ]
     },
     "metadata": {},
     "output_type": "display_data"
    }
   ],
   "source": [
    "# End recording the running time\n",
    "cat('The running time of this notebooks is:')\n",
    "proc.time()-ptm"
   ]
  }
 ],
 "metadata": {
  "kernelspec": {
   "display_name": "R",
   "language": "R",
   "name": "ir"
  },
  "language_info": {
   "codemirror_mode": "r",
   "file_extension": ".r",
   "mimetype": "text/x-r-source",
   "name": "R",
   "pygments_lexer": "r",
   "version": "3.3.2"
  }
 },
 "nbformat": 4,
 "nbformat_minor": 2
}
