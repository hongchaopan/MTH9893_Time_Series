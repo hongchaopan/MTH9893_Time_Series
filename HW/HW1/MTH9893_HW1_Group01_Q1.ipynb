{
 "cells": [
  {
   "cell_type": "markdown",
   "metadata": {},
   "source": [
    "## MTH9893 Time Series Analysis HW1\n",
    "* Group 01\n",
    "* Author: Pan, Hongchao & Sun, Yu\n",
    "* Kernel version: Python 3.5\n",
    "* Packages: pandas_datareader, datetime, pandas, statsmodels\n",
    "* Data: 02/04/2007-02/05/2017 **Adjust close price** of 'SPY' and 'IWV'\n",
    "* Notes: **Please install pandas before running the notebook**\n",
    "* Notes: **The total running time of this notebook may up to 5min and please do not comment the tables and figures**"
   ]
  },
  {
   "cell_type": "markdown",
   "metadata": {},
   "source": [
    "### Question 1"
   ]
  },
  {
   "cell_type": "code",
   "execution_count": 1,
   "metadata": {
    "collapsed": false
   },
   "outputs": [],
   "source": [
    "# import the packages\n",
    "# using DataReader function from pandas_datareader\n",
    "# Ref: https://github.com/pydata/pandas-datareader/blob/master/pandas_datareader/data.py\n",
    "from pandas_datareader import data\n",
    "import datetime as dt\n",
    "import pandas as pd\n",
    "import statsmodels.api as sm\n",
    "from statsmodels.tsa.ar_model import AR\n",
    "import numpy as np\n",
    "import matplotlib.pyplot as plt\n",
    "import time"
   ]
  },
  {
   "cell_type": "code",
   "execution_count": 2,
   "metadata": {
    "collapsed": false
   },
   "outputs": [],
   "source": [
    "# Define a function to get the data\n",
    "def get_data():\n",
    "    # Reading the historical daily returns of SPY and IWV over the last 10 years\n",
    "    start, end=dt.datetime(2007,2,4),dt.datetime(2017,2,5)\n",
    "    data1=data.DataReader('SPY',data_source='yahoo',start=start,end=end)\n",
    "    data2=data.DataReader('IWV',data_source='yahoo',start=start,end=end)\n",
    "    \n",
    "    # Rename the Adj close of two tickers\n",
    "    data1.rename(columns={'Adj Close':'SPY Adj Close'},inplace=True)\n",
    "    data2.rename(columns={'Adj Close':'IWV Adj Close'},inplace=True)\n",
    "    \n",
    "    # Merge the data and only use the adjust close price for both tickers\n",
    "    dataAll=data1.merge(data2,left_index=True,right_index=True).loc[:,['SPY Adj Close','IWV Adj Close']]\n",
    "    dataAll['SPY Adj Close']=dataAll['SPY Adj Close'].astype(float)\n",
    "    dataAll['IWV Adj Close']=dataAll['IWV Adj Close'].astype(float)\n",
    "    \n",
    "    # Get the log/percentage returns\n",
    "    dataAll['SPY log return']=np.log(dataAll['SPY Adj Close']).diff()[1:]\n",
    "    dataAll['IWV log return']=np.log(dataAll['IWV Adj Close']).diff()[1:]\n",
    "    dataAll['SPY pert return']=dataAll['SPY Adj Close'].pct_change()\n",
    "    dataAll['IWV pert return']=dataAll['IWV Adj Close'].pct_change()\n",
    "    \n",
    "    # Get the difference of returns between two tickers\n",
    "    dataAll['log difference']=dataAll['SPY log return']-dataAll['IWV log return']\n",
    "    dataAll['pert difference']=dataAll['SPY pert return']-dataAll['IWV pert return']\n",
    "    \n",
    "    return dataAll\n"
   ]
  },
  {
   "cell_type": "code",
   "execution_count": 3,
   "metadata": {
    "collapsed": false
   },
   "outputs": [],
   "source": [
    "dataAll=get_data()"
   ]
  },
  {
   "cell_type": "code",
   "execution_count": 4,
   "metadata": {
    "collapsed": false
   },
   "outputs": [
    {
     "data": {
      "image/png": "[encoded data removed]",
      "text/plain": [
       "<matplotlib.figure.Figure at 0x1105b0550>"
      ]
     },
     "metadata": {},
     "output_type": "display_data"
    }
   ],
   "source": [
    "# Plot the log differences VS percentage differences\n",
    "plt.figure(1)\n",
    "plt.subplot(211)\n",
    "plt.title('Log return VS percentage return of differences between two tickers')\n",
    "plt.plot(dataAll['log difference'])\n",
    "plt.ylabel('Log difference')\n",
    "plt.xlabel('Date')\n",
    "\n",
    "plt.subplot(212)\n",
    "# Plot the percentage differences\n",
    "plt.plot(dataAll['pert difference'],color='green')\n",
    "plt.ylabel('Percentage difference')\n",
    "plt.xlabel('Date')\n",
    "plt.show()\n"
   ]
  },
  {
   "cell_type": "markdown",
   "metadata": {},
   "source": [
    "Figure 1 Log return and percentage return comparison of differences between two tickers over past 10 years"
   ]
  },
  {
   "cell_type": "code",
   "execution_count": 5,
   "metadata": {
    "collapsed": false
   },
   "outputs": [],
   "source": [
    "# Set the maximum lags of AR model to a variable\n",
    "# max_ma=0: us AR model\n",
    "# ic: use AIC and BIC criteria\n",
    "def LagAnalysis(maxAR):\n",
    "    ST=time.time()\n",
    "    LogRes=sm.tsa.arma_order_select_ic(dataAll['log difference'].dropna(),max_ar=maxAR,max_ma=0,ic=['aic','bic'],trend='c')\n",
    "    PertRes=sm.tsa.arma_order_select_ic(dataAll['pert difference'].dropna(),max_ar=maxAR,max_ma=0,ic=['aic','bic'],trend='c')\n",
    "    ET=time.time()\n",
    "    \n",
    "    return (LogRes, PertRes, ET-ST)\n"
   ]
  },
  {
   "cell_type": "code",
   "execution_count": 6,
   "metadata": {
    "collapsed": true
   },
   "outputs": [],
   "source": [
    "# Compare the performance of different maxlag of AR model\n",
    "def performance(maxARs):\n",
    "    cols=['maxlag','p of log based on aic','p of log based on bic','p of pert based on aic','p of pert based on bic','running time(s)']\n",
    "    ind=[i for i in range(len(maxARs))] \n",
    "    \n",
    "    # Use list comprehension to avoid for loop\n",
    "    res=[[ar, LagAnalysis(ar)[0].aic_min_order[0], LagAnalysis(ar)[0].bic_min_order[0],\n",
    "                   LagAnalysis(ar)[1].aic_min_order[0],LagAnalysis(ar)[1].bic_min_order[0],LagAnalysis(ar)[2]] for ar in maxARs]\n",
    "\n",
    "    # Get the corresponding value\n",
    "    df=pd.DataFrame(res,index=ind,columns=cols)\n",
    "    \n",
    "    return df"
   ]
  },
  {
   "cell_type": "code",
   "execution_count": 7,
   "metadata": {
    "collapsed": false
   },
   "outputs": [
    {
     "name": "stdout",
     "output_type": "stream",
     "text": [
      "Computation time: 172.30728912353516 seconds\n"
     ]
    },
    {
     "data": {
      "text/html": [
       "<div>\n",
       "<table border=\"1\" class=\"dataframe\">\n",
       "  <thead>\n",
       "    <tr style=\"text-align: right;\">\n",
       "      <th></th>\n",
       "      <th>maxlag</th>\n",
       "      <th>p of log based on aic</th>\n",
       "      <th>p of log based on bic</th>\n",
       "      <th>p of pert based on aic</th>\n",
       "      <th>p of pert based on bic</th>\n",
       "      <th>running time(s)</th>\n",
       "    </tr>\n",
       "  </thead>\n",
       "  <tbody>\n",
       "    <tr>\n",
       "      <th>0</th>\n",
       "      <td>8</td>\n",
       "      <td>8</td>\n",
       "      <td>8</td>\n",
       "      <td>8</td>\n",
       "      <td>8</td>\n",
       "      <td>4.143735</td>\n",
       "    </tr>\n",
       "    <tr>\n",
       "      <th>1</th>\n",
       "      <td>10</td>\n",
       "      <td>10</td>\n",
       "      <td>10</td>\n",
       "      <td>10</td>\n",
       "      <td>9</td>\n",
       "      <td>9.371878</td>\n",
       "    </tr>\n",
       "    <tr>\n",
       "      <th>2</th>\n",
       "      <td>12</td>\n",
       "      <td>11</td>\n",
       "      <td>10</td>\n",
       "      <td>11</td>\n",
       "      <td>11</td>\n",
       "      <td>24.724778</td>\n",
       "    </tr>\n",
       "  </tbody>\n",
       "</table>\n",
       "</div>"
      ],
      "text/plain": [
       "   maxlag  p of log based on aic  p of log based on bic  \\\n",
       "0       8                      8                      8   \n",
       "1      10                     10                     10   \n",
       "2      12                     11                     10   \n",
       "\n",
       "   p of pert based on aic  p of pert based on bic  running time(s)  \n",
       "0                       8                       8         4.143735  \n",
       "1                      10                       9         9.371878  \n",
       "2                      11                      11        24.724778  "
      ]
     },
     "execution_count": 7,
     "metadata": {},
     "output_type": "execute_result"
    }
   ],
   "source": [
    "# Set maxlag of AR as 8,10,12 based on previous attempt\n",
    "startT=time.time()\n",
    "maxARList=[8,10,12]\n",
    "df_perf=performance(maxARList)\n",
    "endT=time.time()\n",
    "print('Computation time: %s seconds' %(endT-startT))\n",
    "#print(df_perf)\n",
    "df_perf"
   ]
  },
  {
   "cell_type": "markdown",
   "metadata": {},
   "source": [
    "Table 1 Performance of the analysis with different maxlag in AR model"
   ]
  },
  {
   "cell_type": "code",
   "execution_count": 8,
   "metadata": {
    "collapsed": false
   },
   "outputs": [],
   "source": [
    "Log15,Pert15,Time15=LagAnalysis(15)\n"
   ]
  },
  {
   "cell_type": "code",
   "execution_count": 9,
   "metadata": {
    "collapsed": false
   },
   "outputs": [
    {
     "name": "stdout",
     "output_type": "stream",
     "text": [
      "Result of maxlag=15\n",
      "p of log based on aic is 15, p of pert based on aic is 15, and running time is 81.07 seconds\n"
     ]
    }
   ],
   "source": [
    "print('Result of maxlag=15')\n",
    "print(\"p of log based on aic is {}, p of pert based on aic is {}, and running time is {:.2f} seconds\".format(\n",
    "Log15.aic_min_order[0], Pert15.aic_min_order[0],Time15))"
   ]
  },
  {
   "cell_type": "code",
   "execution_count": 10,
   "metadata": {
    "collapsed": false
   },
   "outputs": [
    {
     "data": {
      "text/html": [
       "<div>\n",
       "<table border=\"1\" class=\"dataframe\">\n",
       "  <thead>\n",
       "    <tr style=\"text-align: right;\">\n",
       "      <th></th>\n",
       "      <th>0</th>\n",
       "    </tr>\n",
       "  </thead>\n",
       "  <tbody>\n",
       "    <tr>\n",
       "      <th>0</th>\n",
       "      <td>-23930.053329</td>\n",
       "    </tr>\n",
       "    <tr>\n",
       "      <th>1</th>\n",
       "      <td>-24277.893778</td>\n",
       "    </tr>\n",
       "    <tr>\n",
       "      <th>2</th>\n",
       "      <td>-24364.521803</td>\n",
       "    </tr>\n",
       "    <tr>\n",
       "      <th>3</th>\n",
       "      <td>-24578.733328</td>\n",
       "    </tr>\n",
       "    <tr>\n",
       "      <th>4</th>\n",
       "      <td>-24577.363790</td>\n",
       "    </tr>\n",
       "    <tr>\n",
       "      <th>5</th>\n",
       "      <td>-24581.510736</td>\n",
       "    </tr>\n",
       "    <tr>\n",
       "      <th>6</th>\n",
       "      <td>-24616.304470</td>\n",
       "    </tr>\n",
       "    <tr>\n",
       "      <th>7</th>\n",
       "      <td>-24614.556784</td>\n",
       "    </tr>\n",
       "    <tr>\n",
       "      <th>8</th>\n",
       "      <td>-24634.336624</td>\n",
       "    </tr>\n",
       "    <tr>\n",
       "      <th>9</th>\n",
       "      <td>-24639.669064</td>\n",
       "    </tr>\n",
       "    <tr>\n",
       "      <th>10</th>\n",
       "      <td>-24646.689696</td>\n",
       "    </tr>\n",
       "    <tr>\n",
       "      <th>11</th>\n",
       "      <td>-24651.236535</td>\n",
       "    </tr>\n",
       "    <tr>\n",
       "      <th>12</th>\n",
       "      <td>-24650.147336</td>\n",
       "    </tr>\n",
       "    <tr>\n",
       "      <th>13</th>\n",
       "      <td>-24650.503428</td>\n",
       "    </tr>\n",
       "    <tr>\n",
       "      <th>14</th>\n",
       "      <td>-24650.677895</td>\n",
       "    </tr>\n",
       "    <tr>\n",
       "      <th>15</th>\n",
       "      <td>-24686.190710</td>\n",
       "    </tr>\n",
       "  </tbody>\n",
       "</table>\n",
       "</div>"
      ],
      "text/plain": [
       "               0\n",
       "0  -23930.053329\n",
       "1  -24277.893778\n",
       "2  -24364.521803\n",
       "3  -24578.733328\n",
       "4  -24577.363790\n",
       "5  -24581.510736\n",
       "6  -24616.304470\n",
       "7  -24614.556784\n",
       "8  -24634.336624\n",
       "9  -24639.669064\n",
       "10 -24646.689696\n",
       "11 -24651.236535\n",
       "12 -24650.147336\n",
       "13 -24650.503428\n",
       "14 -24650.677895\n",
       "15 -24686.190710"
      ]
     },
     "execution_count": 10,
     "metadata": {},
     "output_type": "execute_result"
    }
   ],
   "source": [
    "Log15.aic"
   ]
  },
  {
   "cell_type": "markdown",
   "metadata": {},
   "source": [
    "Table 2 The AIC values of AR(p) with p from 0 to 15"
   ]
  },
  {
   "cell_type": "code",
   "execution_count": 11,
   "metadata": {
    "collapsed": false
   },
   "outputs": [],
   "source": [
    "def show_plot():\n",
    "    plt.figure(2)\n",
    "    plt.subplot(311)\n",
    "    plt.title('Log/pert difference of maxlag=15')\n",
    "    plt.plot(Log15.aic,'r',Log15.bic,'b')\n",
    "    plt.ylabel('Log diff')\n",
    "    plt.xlabel('Date')\n",
    "\n",
    "    plt.subplot(312)\n",
    "    plt.plot(Pert15.aic,'r',Pert15.bic,'b')\n",
    "    plt.ylabel('Pert diff')\n",
    "    plt.xlabel('Date')\n",
    "\n",
    "    plt.subplot(313)\n",
    "    plt.plot(Pert15.aic,'r',Pert15.bic,'b')\n",
    "    plt.ylabel('Pert diff')\n",
    "    plt.xlabel('Date')\n",
    "    plt.show()\n",
    "\n",
    "    plt.figure(3)\n",
    "    plt.subplot(111)\n",
    "    plt.title('Log VS percentage returns of maxlag=15')\n",
    "    plt.plot(Log15.aic,'r',Pert15.aic,'b')\n",
    "    plt.ylabel('Pert VS log diff of maxlag=15')\n",
    "    plt.xlabel('Date')\n",
    "\n",
    "    plt.show()"
   ]
  },
  {
   "cell_type": "code",
   "execution_count": 12,
   "metadata": {
    "collapsed": false
   },
   "outputs": [
    {
     "data": {
      "image/png": "[encoded data removed]",
      "text/plain": [
       "<matplotlib.figure.Figure at 0x10442b940>"
      ]
     },
     "metadata": {},
     "output_type": "display_data"
    },
    {
     "data": {
      "image/png": "[encoded data removed]",
      "text/plain": [
       "<matplotlib.figure.Figure at 0x104403c50>"
      ]
     },
     "metadata": {},
     "output_type": "display_data"
    }
   ],
   "source": [
    "show_plot()"
   ]
  },
  {
   "cell_type": "markdown",
   "metadata": {},
   "source": [
    "Figure 2 AIC and BIC values comparasion (top), AIC values of log return and percentage return comparison (bottom) of AR(p) model with p from 0 to 15"
   ]
  },
  {
   "cell_type": "markdown",
   "metadata": {},
   "source": [
    "## Discussion of Q1"
   ]
  },
  {
   "cell_type": "markdown",
   "metadata": {},
   "source": [
    "1. The comparasion of log returns and percentage returns of the differences between two tickers in Figure 1 shows that the analysts can use either log daily return or percentage daily return for long-term period analysis. \n",
    "2. The AIC (red line) and BIC (blue line) criteria are consistent of this analysis.\n",
    "3. AIC or BIC drops dramatically when maxlag<=4 and approach a slope after maxlap>4. In the meantime, the running time of analysis with maxlag=12 increases sharply from 20.87s to 95.43s with maxlag=15.\n",
    "4. Table 1, Table2, and Figure 2 consistently shows the best parameter p of AR(p) is 11 (percentage returns, no matter AIC or BIC criterion), or 11 (log returns with AIC criterion) or 10 (log returns with BIC criterion) with the consideration of computation cost.\n",
    "5. Since the difference of AIC/BIC value between AR(10) and AR(11) are very small, **we conclude that the best fit of this AR model is AR(11).**"
   ]
  },
  {
   "cell_type": "code",
   "execution_count": null,
   "metadata": {
    "collapsed": true
   },
   "outputs": [],
   "source": []
  }
 ],
 "metadata": {
  "kernelspec": {
   "display_name": "Python [default]",
   "language": "python",
   "name": "python3"
  },
  "language_info": {
   "codemirror_mode": {
    "name": "ipython",
    "version": 3
   },
   "file_extension": ".py",
   "mimetype": "text/x-python",
   "name": "python",
   "nbconvert_exporter": "python",
   "pygments_lexer": "ipython3",
   "version": "3.5.2"
  }
 },
 "nbformat": 4,
 "nbformat_minor": 2
}
