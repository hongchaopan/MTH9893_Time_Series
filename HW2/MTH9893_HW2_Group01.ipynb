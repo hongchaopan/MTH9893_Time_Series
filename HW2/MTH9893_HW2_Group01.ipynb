{
 "cells": [
  {
   "cell_type": "markdown",
   "metadata": {},
   "source": [
    "## MTH9893 Time Series Analysis HW2\n",
    "* Group 01\n",
    "* Author: Pan, Hongchao & Sun, Yu\n",
    "* Kernel version: Python 3.5\n",
    "* Packages: pandas_datareader, datetime, pandas, statsmodels\n",
    "* Data: \n",
    "* Notes:"
   ]
  },
  {
   "cell_type": "markdown",
   "metadata": {},
   "source": [
    "### Answer of Q1"
   ]
  },
  {
   "cell_type": "code",
   "execution_count": 1,
   "metadata": {
    "collapsed": false
   },
   "outputs": [],
   "source": [
    "# import the packages\n",
    "import pandas as pd\n",
    "import numpy as np\n",
    "import matplotlib.pyplot as plt\n",
    "from statsmodels.tsa.arima_model import ARMA\n",
    "import time"
   ]
  },
  {
   "cell_type": "code",
   "execution_count": 2,
   "metadata": {
    "collapsed": false
   },
   "outputs": [],
   "source": [
    "# Set up the parameters\n",
    "alpha=[0.1,0.1,0.1]\n",
    "beta=[0.3,0.3,0.3]\n",
    "sigma=[0.005,0.005,0.005]\n",
    "N=2000             # number of simulations\n",
    "T=[100,250,1250]   # list of numbers of observations\n",
    "\n",
    "x0=alpha[0]/(1-beta[0])\n",
    "x=np.zeros(T[2]+1)\n",
    "x[0]=x0\n",
    "eps=np.random.normal(0.0,sigma[0],T[2])  # Get the maximum random numbers: 1250\n",
    "x[1:]=[alpha[0]+beta[0]*x[i-1]+eps[i-1] for i in range(1,T[2]+1)]"
   ]
  },
  {
   "cell_type": "code",
   "execution_count": 3,
   "metadata": {
    "collapsed": false
   },
   "outputs": [
    {
     "data": {
      "image/png": "[encoded data removed]",
      "text/plain": [
       "<matplotlib.figure.Figure at 0x10ecef860>"
      ]
     },
     "metadata": {},
     "output_type": "display_data"
    }
   ],
   "source": [
    "#Take a look at the simulated time series\n",
    "plt.plot(x)\n",
    "plt.show()"
   ]
  },
  {
   "cell_type": "code",
   "execution_count": 4,
   "metadata": {
    "collapsed": true
   },
   "outputs": [],
   "source": [
    "def MLE_para(ts,Tlist,NN):\n",
    "    # ts: time series data\n",
    "    # Tlist: list of T (number of observations)\n",
    "    # NN: number of simulations\n",
    "    \n",
    "    res=[[Tlist[i],j, ARMA(ts[0:Tlist[i]],order=(1,0)).fit(method='mle').params[0],\n",
    "          ARMA(ts[0:Tlist[i]],order=(1,0)).fit(method='mle').params[1],\n",
    "          np.std(ARMA(ts[0:Tlist[i]],order=(1,0)).fit(method='mle').resid)] \n",
    "         for i in range(len(Tlist)) for j in range(NN)]\n",
    "    \n",
    "    df=pd.DataFrame(res,columns=['T','j','alpha_MLE','beta_MLE','sigma_MLE'])\n",
    "    res2=df.groupby(['T'])['alpha_MLE','beta_MLE','sigma_MLE'].mean()\n",
    "\n",
    "    return res2"
   ]
  },
  {
   "cell_type": "code",
   "execution_count": 5,
   "metadata": {
    "collapsed": false
   },
   "outputs": [
    {
     "name": "stdout",
     "output_type": "stream",
     "text": [
      "Computation time: 569.664479970932 seconds\n"
     ]
    },
    {
     "data": {
      "text/html": [
       "<div>\n",
       "<table border=\"1\" class=\"dataframe\">\n",
       "  <thead>\n",
       "    <tr style=\"text-align: right;\">\n",
       "      <th></th>\n",
       "      <th>alpha_MLE</th>\n",
       "      <th>beta_MLE</th>\n",
       "      <th>sigma_MLE</th>\n",
       "    </tr>\n",
       "    <tr>\n",
       "      <th>T</th>\n",
       "      <th></th>\n",
       "      <th></th>\n",
       "      <th></th>\n",
       "    </tr>\n",
       "  </thead>\n",
       "  <tbody>\n",
       "    <tr>\n",
       "      <th>100</th>\n",
       "      <td>0.101696</td>\n",
       "      <td>0.512223</td>\n",
       "      <td>0.007947</td>\n",
       "    </tr>\n",
       "    <tr>\n",
       "      <th>250</th>\n",
       "      <td>0.100765</td>\n",
       "      <td>0.354892</td>\n",
       "      <td>0.006313</td>\n",
       "    </tr>\n",
       "    <tr>\n",
       "      <th>1250</th>\n",
       "      <td>0.100128</td>\n",
       "      <td>0.105064</td>\n",
       "      <td>0.005396</td>\n",
       "    </tr>\n",
       "  </tbody>\n",
       "</table>\n",
       "</div>"
      ],
      "text/plain": [
       "      alpha_MLE  beta_MLE  sigma_MLE\n",
       "T                                   \n",
       "100    0.101696  0.512223   0.007947\n",
       "250    0.100765  0.354892   0.006313\n",
       "1250   0.100128  0.105064   0.005396"
      ]
     },
     "execution_count": 5,
     "metadata": {},
     "output_type": "execute_result"
    }
   ],
   "source": [
    "startT=time.time()\n",
    "df1=MLE_para(x,T,N)\n",
    "df_q1=pd.DataFrame({'T':T,'alpha':alpha,'beta':beta,'sigma':sigma},index=['i','ii','iii'])\n",
    "endT=time.time()\n",
    "print('Computation time: %s seconds' %(endT-startT))\n",
    "df1\n",
    "#df_q1"
   ]
  },
  {
   "cell_type": "markdown",
   "metadata": {},
   "source": [
    "### Observation of Q1\n",
    "* The fitted parameters are roughtly consistent with the true values\n",
    "* Simulated parameters alpha and sigma converge to the true values, however, the simulated beta does not converge"
   ]
  }
 ],
 "metadata": {
  "kernelspec": {
   "display_name": "Python [conda root]",
   "language": "python",
   "name": "conda-root-py"
  },
  "language_info": {
   "codemirror_mode": {
    "name": "ipython",
    "version": 3
   },
   "file_extension": ".py",
   "mimetype": "text/x-python",
   "name": "python",
   "nbconvert_exporter": "python",
   "pygments_lexer": "ipython3",
   "version": "3.5.2"
  }
 },
 "nbformat": 4,
 "nbformat_minor": 2
}
