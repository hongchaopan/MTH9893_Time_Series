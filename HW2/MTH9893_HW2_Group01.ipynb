{
 "cells": [
  {
   "cell_type": "markdown",
   "metadata": {},
   "source": [
    "## MTH9893 Time Series Analysis HW2\n",
    "* Group 01\n",
    "* Author: Pan, Hongchao & Sun, Yu\n",
    "* Kernel version: Python 3.5\n",
    "* Packages: pandas, statsmodels, numpy, time, matplotlib\n",
    "* Data: Past 15 years data (Daily, weekly, monthly, quarterly, yearly) of USD/EUR FX-rate, FEDL01 and EUORDEPO rates \n",
    "* Notes:\n",
    "    * The running time of notebook is around 4mins"
   ]
  },
  {
   "cell_type": "markdown",
   "metadata": {},
   "source": [
    "### Answer of Q1"
   ]
  },
  {
   "cell_type": "code",
   "execution_count": 1,
   "metadata": {
    "collapsed": false
   },
   "outputs": [],
   "source": [
    "# import the packages\n",
    "import pandas as pd\n",
    "import numpy as np\n",
    "import matplotlib.pyplot as plt\n",
    "from statsmodels.tsa.arima_model import ARMA\n",
    "import statsmodels.tsa.stattools as tsa  # adfuller test\n",
    "import time"
   ]
  },
  {
   "cell_type": "code",
   "execution_count": 2,
   "metadata": {
    "collapsed": true
   },
   "outputs": [],
   "source": [
    "# Record the running time of the notebook\n",
    "startTALL=time.time()"
   ]
  },
  {
   "cell_type": "code",
   "execution_count": 3,
   "metadata": {
    "collapsed": false
   },
   "outputs": [],
   "source": [
    "# Set up the parameters\n",
    "alpha=[0.1,0.1,0.1]\n",
    "beta=[0.3,0.3,0.3]\n",
    "sigma=[0.005,0.005,0.005]\n",
    "N=2000             # number of simulations\n",
    "T=[100,250,1250]   # list of numbers of observations\n",
    "\n",
    "x0=alpha[0]/(1-beta[0])\n",
    "x=np.zeros(T[2])\n",
    "x[0]=x0\n",
    "eps=np.random.normal(0.0,sigma[0],T[2])  # Get the maximum random numbers: 1250\n",
    "for i in range(1,T[2]):\n",
    "    x[i]=alpha[0]+beta[0]*x[i-1]+eps[i-1]\n"
   ]
  },
  {
   "cell_type": "code",
   "execution_count": 4,
   "metadata": {
    "collapsed": false
   },
   "outputs": [
    {
     "data": {
      "image/png": "[encoded data removed]",
      "text/plain": [
       "<matplotlib.figure.Figure at 0x10f10f470>"
      ]
     },
     "metadata": {},
     "output_type": "display_data"
    }
   ],
   "source": [
    "#Take a look at the simulated time series\n",
    "plt.plot(x)\n",
    "plt.show()"
   ]
  },
  {
   "cell_type": "code",
   "execution_count": null,
   "metadata": {
    "collapsed": true
   },
   "outputs": [],
   "source": [
    "def MLE_para(ts,Tlist,NN):\n",
    "    # ts: time series data\n",
    "    # Tlist: list of T (number of observations)\n",
    "    # NN: number of simulations\n",
    "    \n",
    "#    alphaALL=[]\n",
    "    betaALL=[]\n",
    "    sigmaALL=[]\n",
    "    alphaALL2=[]\n",
    "    # Avoid . operation to speed up the computation\n",
    "#    alpha_append=alphaALL.append\n",
    "    alpha2_append=alphaALL2.append\n",
    "    beta_append=betaALL.append\n",
    "    sigma_append=sigmaALL.append\n",
    "    \n",
    "#    alpha_res=[]\n",
    "    beta_res=[]\n",
    "    sigma_res=[]\n",
    "    alpha2_res=[]\n",
    "    \n",
    "    \n",
    "    for i in range(len(Tlist)):\n",
    "        for j in range(NN):\n",
    "            model=ARMA(ts[0:Tlist[i]],order=(1,0)).fit(method='mle')\n",
    "            alphaMLE=model.params[0]\n",
    "            betaMLE=model.params[1]\n",
    "            sigmaMLE=np.std(model.resid)\n",
    "#            alpha_append(model.params[0]) This returns mu, not alpha\n",
    "            beta_append(model.params[1])\n",
    "            sigma_append(np.std(model.resid))\n",
    "            \n",
    "            alpha2_append(model.params[0]*(1-model.params[1])) # This returns alpha\n",
    "        \n",
    "#        alpha_res.append(np.average(alphaALL))\n",
    "        beta_res.append(np.average(betaALL))\n",
    "        sigma_res.append(np.average(sigmaALL))\n",
    " \n",
    "        alpha2_res.append(np.average(alphaALL2))\n",
    "        \n",
    "    df=pd.DataFrame({'T':Tlist,'alpha_MLE':alpha_res2,\n",
    "                     #'alpha2_MLE':alpha2_res,\n",
    "                     'beta_MLE':beta_res,\n",
    "                     'sigma_MLE':sigma_res})\n",
    "\n",
    "    return df"
   ]
  },
  {
   "cell_type": "code",
   "execution_count": null,
   "metadata": {
    "collapsed": false
   },
   "outputs": [],
   "source": [
    "startT=time.time()\n",
    "df1=MLE_para(x,T,N)\n",
    "endT=time.time()\n",
    "print('Computation time: %s seconds' %(endT-startT))\n",
    "df1"
   ]
  },
  {
   "cell_type": "code",
   "execution_count": null,
   "metadata": {
    "collapsed": false
   },
   "outputs": [],
   "source": [
    "df_true=pd.DataFrame({'T':T,'alpha':alpha,'beta':beta,'sigma':sigma},index=['i','ii','iii'])\n",
    "df_true"
   ]
  },
  {
   "cell_type": "code",
   "execution_count": null,
   "metadata": {
    "collapsed": false
   },
   "outputs": [],
   "source": [
    "df_q1=df_true.merge(df1,how='inner')\n",
    "df_q1"
   ]
  },
  {
   "cell_type": "markdown",
   "metadata": {},
   "source": [
    "Table 1 Comparasion of simulated parameters with true values"
   ]
  },
  {
   "cell_type": "markdown",
   "metadata": {},
   "source": [
    "### Observation of Q1\n",
    "* The fitted parameters are roughtly consistent with the true values\n",
    "* Simulated parameters converge to the true values with increasing number of observations"
   ]
  },
  {
   "cell_type": "markdown",
   "metadata": {},
   "source": [
    "### Answer of Q2"
   ]
  },
  {
   "cell_type": "code",
   "execution_count": null,
   "metadata": {
    "collapsed": true
   },
   "outputs": [],
   "source": [
    "# Get the data\n",
    "def get_data():\n",
    "    # Use end of the day (LAST) rates\n",
    "    # Get the data of FEDL01\n",
    "    # Daily\n",
    "    df_FD=pd.read_excel(io='datasets/FEDL01.xlsx',sheetname=0,parse_cols=\"A:B\",skiprows=5)\n",
    "    # Weekly\n",
    "    df_FW=pd.read_excel(io='datasets/FEDL01.xlsx',sheetname=1,parse_cols=\"A:B\",skiprows=5)\n",
    "    # Monthly\n",
    "    df_FM=pd.read_excel(io='datasets/FEDL01.xlsx',sheetname=2,parse_cols=\"A:B\",skiprows=5)\n",
    "    # Quarterly\n",
    "    df_FQ=pd.read_excel(io='datasets/FEDL01.xlsx',sheetname=3,parse_cols=\"A:B\",skiprows=5)\n",
    "    # Yearly\n",
    "    df_FY=pd.read_excel(io='datasets/FEDL01.xlsx',sheetname=4,parse_cols=\"A:B\",skiprows=5)\n",
    "    \n",
    "    # Get the data of EUORDEPO\n",
    "    # Daily\n",
    "    df_ED=pd.read_excel(io='datasets/EUORDEPO.xlsx',sheetname=0,parse_cols=\"A:B\",skiprows=5)\n",
    "    # Weekly\n",
    "    df_EW=pd.read_excel(io='datasets/EUORDEPO.xlsx',sheetname=1,parse_cols=\"A:B\",skiprows=5)\n",
    "    # Monthly\n",
    "    df_EM=pd.read_excel(io='datasets/EUORDEPO.xlsx',sheetname=2,parse_cols=\"A:B\",skiprows=5)\n",
    "    # Quarterly\n",
    "    df_EQ=pd.read_excel(io='datasets/EUORDEPO.xlsx',sheetname=3,parse_cols=\"A:B\",skiprows=5)\n",
    "    # Yearly\n",
    "    df_EY=pd.read_excel(io='datasets/EUORDEPO.xlsx',sheetname=4,parse_cols=\"A:B\",skiprows=5)\n",
    "    \n",
    "    # Get the data of usd/eur fx-rate (using PX_LAST)\n",
    "    # Daily\n",
    "    df_FXD=pd.read_excel(io='datasets/usdeur.xlsx',sheetname=0,parse_cols=\"A:B\",skiprows=1)\n",
    "    # Weekly\n",
    "    df_FXW=pd.read_excel(io='datasets/usdeur.xlsx',sheetname=1,parse_cols=\"A:B\",skiprows=1)\n",
    "    # Monthly\n",
    "    df_FXM=pd.read_excel(io='datasets/usdeur.xlsx',sheetname=2,parse_cols=\"A:B\",skiprows=1)\n",
    "    # Quarterly\n",
    "    df_FXQ=pd.read_excel(io='datasets/usdeur.xlsx',sheetname=3,parse_cols=\"A:B\",skiprows=1)\n",
    "    # Yearly\n",
    "    df_FXY=pd.read_excel(io='datasets/usdeur.xlsx',sheetname=4,parse_cols=\"A:B\",skiprows=1)\n",
    " \n",
    "    # Rename the column in the FX dataframes\n",
    "    df_FXD.columns=['Date','USD/EUR_FX-rate']\n",
    "    df_FXW.columns=['Date','USD/EUR_FX-rate']\n",
    "    df_FXM.columns=['Date','USD/EUR_FX-rate']\n",
    "    df_FXQ.columns=['Date','USD/EUR_FX-rate']\n",
    "    df_FXY.columns=['Date','USD/EUR_FX-rate']\n",
    "    \n",
    "    # Sort the dataframe by date from earliest to newest\n",
    "    df_ED.sort_values(by='Date',ascending=True,inplace=True)\n",
    "    df_EW.sort_values(by='Date',ascending=True,inplace=True)\n",
    "    df_EM.sort_values(by='Date',ascending=True,inplace=True)\n",
    "    df_EQ.sort_values(by='Date',ascending=True,inplace=True)\n",
    "    df_EY.sort_values(by='Date',ascending=True,inplace=True)\n",
    "\n",
    "    df_FD.sort_values(by='Date',ascending=True,inplace=True)\n",
    "    df_FW.sort_values(by='Date',ascending=True,inplace=True)\n",
    "    df_FM.sort_values(by='Date',ascending=True,inplace=True)\n",
    "    df_FQ.sort_values(by='Date',ascending=True,inplace=True)\n",
    "    df_FY.sort_values(by='Date',ascending=True,inplace=True)\n",
    "\n",
    "    # df_FX* are already sorted by 'Date'\n",
    "        \n",
    "    # Get the differences between EUORDEPO and FEDL01\n",
    "    df_FXD['FEDL01-EUORDEPO']=df_FD['PX_LAST']-df_ED['PX_LAST']\n",
    "    df_FXW['FEDL01-EUORDEPO']=df_FW['PX_LAST']-df_EW['PX_LAST']\n",
    "    df_FXM['FEDL01-EUORDEPO']=df_FM['PX_LAST']-df_EM['PX_LAST']\n",
    "    df_FXQ['FEDL01-EUORDEPO']=df_FQ['PX_LAST']-df_EQ['PX_LAST']\n",
    "    df_FXY['FEDL01-EUORDEPO']=df_FY['PX_LAST']-df_EY['PX_LAST']\n",
    "    \n",
    "    \n",
    "    \n",
    "    return df_FXD, df_FXW, df_FXM, df_FXQ, df_FXY   "
   ]
  },
  {
   "cell_type": "code",
   "execution_count": null,
   "metadata": {
    "collapsed": false
   },
   "outputs": [],
   "source": [
    "df_D, df_W, df_M, df_Q, df_Y=get_data()\n",
    "# Add the u_t by the effect of cointegration vector alpha\n",
    "df_D['Xt-Yt']=df_D['USD/EUR_FX-rate']-df_D['FEDL01-EUORDEPO']\n",
    "df_W['Xt-Yt']=df_W['USD/EUR_FX-rate']-df_W['FEDL01-EUORDEPO']\n",
    "df_M['Xt-Yt']=df_M['USD/EUR_FX-rate']-df_M['FEDL01-EUORDEPO']\n",
    "df_Q['Xt-Yt']=df_Q['USD/EUR_FX-rate']-df_Q['FEDL01-EUORDEPO']\n",
    "df_Y['Xt-Yt']=df_Y['USD/EUR_FX-rate']-df_Y['FEDL01-EUORDEPO']"
   ]
  },
  {
   "cell_type": "code",
   "execution_count": null,
   "metadata": {
    "collapsed": false
   },
   "outputs": [],
   "source": [
    "df_D.head()"
   ]
  },
  {
   "cell_type": "markdown",
   "metadata": {},
   "source": [
    "Table 2 Overview of the combined Daily data"
   ]
  },
  {
   "cell_type": "code",
   "execution_count": null,
   "metadata": {
    "collapsed": false
   },
   "outputs": [],
   "source": [
    "df_Y.head()"
   ]
  },
  {
   "cell_type": "markdown",
   "metadata": {},
   "source": [
    "Table 3 Overview of the combined yearly data"
   ]
  },
  {
   "cell_type": "markdown",
   "metadata": {},
   "source": [
    "#### Cointegration Test"
   ]
  },
  {
   "cell_type": "markdown",
   "metadata": {},
   "source": [
    "* Test steps:\n",
    "\n",
    "    * Step one: test the $X_t$ and $Y_t$ are $I(1)$\n",
    "    * Step two is given with $\\alpha=(1,-1)^T$\n",
    "    * Step three: test the new time series $u_t=a^T (Xt,Yt)^T$\n",
    "    * $X_t$=USD/EUR_FX-rate\n",
    "    * $Y_t$=FEDL01-EUORDEPO\n",
    "    * $u_t=a^T (Xt,Yt)^T=X_t-Y_t$"
   ]
  },
  {
   "cell_type": "markdown",
   "metadata": {},
   "source": [
    "* Define the test funtion to test whether a time series is stationary with **confidence interval 99%**"
   ]
  },
  {
   "cell_type": "code",
   "execution_count": null,
   "metadata": {
    "collapsed": true
   },
   "outputs": [],
   "source": [
    "def stationary_test(TsData,CI):\n",
    "    # TsData: to be tested time series data\n",
    "    # CI: the critical value for test statistic, string of 1%, 5%, or 10%\n",
    "    res=tsa.adfuller(TsData)\n",
    "    \n",
    "    if(res[0]>res[4][CI]):\n",
    "        return (res[0],res[4][CI],'stationary')\n",
    "    else:\n",
    "        return (res[0],res[4][CI],'non-stationary')"
   ]
  },
  {
   "cell_type": "markdown",
   "metadata": {},
   "source": [
    "* **Test the daily data**"
   ]
  },
  {
   "cell_type": "code",
   "execution_count": null,
   "metadata": {
    "collapsed": true
   },
   "outputs": [],
   "source": [
    "# Add dropna to avoid null value in the dataframe \n",
    "# (mismatching trading date between USD and EUR, e.g., hollidays)\n",
    "# Step one: test the X_t and Y_t are I(1)\n",
    "res_DE=stationary_test(df_D['USD/EUR_FX-rate'].dropna(),'1%')\n",
    "res_DF=stationary_test(df_D['FEDL01-EUORDEPO'].dropna(),'1%')\n",
    "# Step two is given with a=(1,-1)^T\n",
    "# Step three: test the new time series u_t=a^T(Xt,Yt)^T\n",
    "res_DDiff=stationary_test(df_D['Xt-Yt'].dropna(),'1%')\n",
    "res_DE=list(res_DE)\n",
    "res_DF=list(res_DF)\n",
    "res_DDiff=list(res_DDiff)\n",
    "res_DE.append('Daily')\n",
    "res_DF.append('Daily')\n",
    "res_DDiff.append('Daily')\n",
    "res_D=pd.DataFrame({'D_USD/EUR_FX-rate':res_DE,'D_FEDL01-EUORDEPO':res_DF,'D_Xt-Yt':res_DDiff},\n",
    "                index=['adf(test statistic)','CI value','stationary/non-stationary','dataset'])"
   ]
  },
  {
   "cell_type": "markdown",
   "metadata": {},
   "source": [
    "* **Test weekly data**"
   ]
  },
  {
   "cell_type": "code",
   "execution_count": null,
   "metadata": {
    "collapsed": true
   },
   "outputs": [],
   "source": [
    "# Step one: test the X_t and Y_t are I(1)\n",
    "res_WE=stationary_test(df_W['USD/EUR_FX-rate'].dropna(),'1%')\n",
    "res_WF=stationary_test(df_W['FEDL01-EUORDEPO'].dropna(),'1%')\n",
    "# Step two is given with a=(1,-1)^T\n",
    "# Step three: test the new time series u_t=a^T(Xt,Yt)^T\n",
    "res_WDiff=stationary_test(df_W['Xt-Yt'].dropna(),'1%')\n",
    "res_WE=list(res_WE)\n",
    "res_WF=list(res_WF)\n",
    "res_WDiff=list(res_WDiff)\n",
    "res_WE.append('Weekly')\n",
    "res_WF.append('Weekly')\n",
    "res_WDiff.append('Weekly')\n",
    "res_W=pd.DataFrame({'W_USD/EUR_FX-rate':res_WE,'W_FEDL01-EUORDEPO':res_WF,'W_Xt-Yt':res_WDiff},\n",
    "                index=['adf(test statistic)','CI value','stationary/non-stationary','dataset'])"
   ]
  },
  {
   "cell_type": "markdown",
   "metadata": {},
   "source": [
    "\n",
    "* **Test the monthly data**"
   ]
  },
  {
   "cell_type": "code",
   "execution_count": null,
   "metadata": {
    "collapsed": false
   },
   "outputs": [],
   "source": [
    "# Step one: test the X_t and Y_t are I(1)\n",
    "res_ME=stationary_test(df_M['USD/EUR_FX-rate'].dropna(),'1%')\n",
    "res_MF=stationary_test(df_M['FEDL01-EUORDEPO'].dropna(),'1%')\n",
    "# Step two is given with a=(1,-1)^T\n",
    "# Step three: test the new time series u_t=a^T(Xt,Yt)^T\n",
    "res_MDiff=stationary_test(df_M['Xt-Yt'].dropna(),'1%')\n",
    "res_ME=list(res_ME)\n",
    "res_MF=list(res_MF)\n",
    "res_MDiff=list(res_MDiff)\n",
    "res_ME.append('Monthly')\n",
    "res_MF.append('Monthly')\n",
    "res_MDiff.append('Monthly')\n",
    "res_M=pd.DataFrame({'M_USD/EUR_FX-rate':res_ME,'M_FEDL01-EUORDEPO':res_MF,'M_Xt-Yt':res_MDiff},\n",
    "                index=['adf(test statistic)','CI value','stationary/non-stationary','dataset'])"
   ]
  },
  {
   "cell_type": "markdown",
   "metadata": {},
   "source": [
    "#### Test quarterly data"
   ]
  },
  {
   "cell_type": "code",
   "execution_count": null,
   "metadata": {
    "collapsed": false
   },
   "outputs": [],
   "source": [
    "# Step one: test the X_t and Y_t are I(1)\n",
    "res_QE=stationary_test(df_Q['USD/EUR_FX-rate'].dropna(),'1%')\n",
    "res_QF=stationary_test(df_Q['FEDL01-EUORDEPO'].dropna(),'1%')\n",
    "# Step two is given with a=(1,-1)^T\n",
    "# Step three: test the new time series u_t=a^T(Xt,Yt)^T\n",
    "res_QDiff=stationary_test(df_Q['Xt-Yt'].dropna(),'1%')\n",
    "res_QE=list(res_QE)\n",
    "res_QF=list(res_QF)\n",
    "res_QDiff=list(res_QDiff)\n",
    "res_QE.append('Quarterly')\n",
    "res_QF.append('Quarterly')\n",
    "res_QDiff.append('Quarterly')\n",
    "res_Q=pd.DataFrame({'Q_USD/EUR_FX-rate':res_QE,'Q_FEDL01-EUORDEPO':res_QF,'Q_Xt-Yt':res_QDiff},\n",
    "                index=['adf(test statistic)','CI value','stationary/non-stationary','dataset'])"
   ]
  },
  {
   "cell_type": "markdown",
   "metadata": {},
   "source": [
    "* **Test yearly data**"
   ]
  },
  {
   "cell_type": "code",
   "execution_count": null,
   "metadata": {
    "collapsed": false
   },
   "outputs": [],
   "source": [
    "# Step one: test the X_t and Y_t are I(1)\n",
    "res_YE=stationary_test(df_Y['USD/EUR_FX-rate'].dropna(),'1%')\n",
    "res_YF=stationary_test(df_Y['FEDL01-EUORDEPO'].dropna(),'1%')\n",
    "# Step two is given with a=(1,-1)^T\n",
    "# Step three: test the new time series u_t=a^T(Xt,Yt)^T\n",
    "res_YDiff=stationary_test(df_Y['Xt-Yt'].dropna(),'1%')\n",
    "res_YE=list(res_YE)\n",
    "res_YF=list(res_YF)\n",
    "res_YDiff=list(res_YDiff)\n",
    "res_YE.append('Yearly')\n",
    "res_YF.append('Yearly')\n",
    "res_YDiff.append('Yearly')\n",
    "res_Y=pd.DataFrame({'Y_USD/EUR_FX-rate':res_YE,'Y_FEDL01-EUORDEPO':res_YF,'Y_Xt-Yt':res_YDiff},\n",
    "                index=['adf(test statistic)','CI value','stationary/non-stationary','dataset'])"
   ]
  },
  {
   "cell_type": "code",
   "execution_count": null,
   "metadata": {
    "collapsed": false
   },
   "outputs": [],
   "source": [
    "# Combine all the results\n",
    "df_q2=res_D.join([res_W,res_M,res_Q,res_Y],how='inner')\n",
    "df_q2"
   ]
  },
  {
   "cell_type": "markdown",
   "metadata": {},
   "source": [
    "Table 4 Cointegration test results with varity data sets"
   ]
  },
  {
   "cell_type": "markdown",
   "metadata": {},
   "source": [
    "#### Observation of Q2"
   ]
  },
  {
   "cell_type": "markdown",
   "metadata": {},
   "source": [
    "* All the time series are stationary (except the quarterly data of USD/EUR FX-rate)\n",
    "\n",
    "* The criterion of cointegration are:\n",
    "    * $X_t \\text{and} Y_t$ are $I(1)$, i.e., non-stationary\n",
    "    * $u_t=a^T (Xt,Yt)^T=X_t-Y_t$ is $I(0)$, i.e., stationary\n",
    "\n",
    "* The results shows in table 4 indicates that the two time seires are **not** cointegrated with vector $\\alpha=(1,-1)^T$, i.e., the proposed theory was not correct."
   ]
  },
  {
   "cell_type": "code",
   "execution_count": null,
   "metadata": {
    "collapsed": false
   },
   "outputs": [],
   "source": [
    "endTALL=time.time()\n",
    "print('Running time of notebook: %s seconds' %(endTALL-startTALL))"
   ]
  }
 ],
 "metadata": {
  "kernelspec": {
   "display_name": "Python [conda root]",
   "language": "python",
   "name": "conda-root-py"
  },
  "language_info": {
   "codemirror_mode": {
    "name": "ipython",
    "version": 3
   },
   "file_extension": ".py",
   "mimetype": "text/x-python",
   "name": "python",
   "nbconvert_exporter": "python",
   "pygments_lexer": "ipython3",
   "version": "3.5.2"
  }
 },
 "nbformat": 4,
 "nbformat_minor": 2
}
