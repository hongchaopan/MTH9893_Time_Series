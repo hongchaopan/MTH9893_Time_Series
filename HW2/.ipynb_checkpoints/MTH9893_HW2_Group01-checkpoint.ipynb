{
 "cells": [
  {
   "cell_type": "markdown",
   "metadata": {},
   "source": [
    "## MTH9893 Time Series Analysis HW2\n",
    "* Group 01\n",
    "* Author: Pan, Hongchao & Sun, Yu\n",
    "* Kernel version: Python 3.5\n",
    "* Packages: pandas, statsmodels, numpy, time, matplotlib\n",
    "* Data: Past 15 years data (Daily, weekly, monthly, quarterly, yearly) of USD/EUR FX-rate, FEDL01 and EUORDEPO rates \n",
    "* Notes:\n",
    "    * The running time of notebook is around 11mins"
   ]
  },
  {
   "cell_type": "markdown",
   "metadata": {},
   "source": [
    "### Answer of Q1"
   ]
  },
  {
   "cell_type": "code",
   "execution_count": 1,
   "metadata": {
    "collapsed": false
   },
   "outputs": [],
   "source": [
    "# import the packages\n",
    "import pandas as pd\n",
    "import numpy as np\n",
    "import matplotlib.pyplot as plt\n",
    "from statsmodels.tsa.arima_model import ARMA\n",
    "import statsmodels.tsa.stattools as tsa  # adfuller test\n",
    "import time"
   ]
  },
  {
   "cell_type": "code",
   "execution_count": 2,
   "metadata": {
    "collapsed": true
   },
   "outputs": [],
   "source": [
    "startTALL=time.time()"
   ]
  },
  {
   "cell_type": "code",
   "execution_count": 3,
   "metadata": {
    "collapsed": false
   },
   "outputs": [],
   "source": [
    "# Set up the parameters\n",
    "alpha=[0.1,0.1,0.1]\n",
    "beta=[0.3,0.3,0.3]\n",
    "sigma=[0.005,0.005,0.005]\n",
    "N=2000             # number of simulations\n",
    "T=[100,250,1250]   # list of numbers of observations\n",
    "\n",
    "x0=alpha[0]/(1-beta[0])\n",
    "x=np.zeros(T[2]+1)\n",
    "x[0]=x0\n",
    "eps=np.random.normal(0.0,sigma[0],T[2])  # Get the maximum random numbers: 1250\n",
    "x[1:]=[alpha[0]+beta[0]*x[i-1]+eps[i-1] for i in range(1,T[2]+1)]"
   ]
  },
  {
   "cell_type": "code",
   "execution_count": 4,
   "metadata": {
    "collapsed": false
   },
   "outputs": [
    {
     "data": {
      "image/png": "[encoded data removed]",
      "text/plain": [
       "<matplotlib.figure.Figure at 0x10f8ab780>"
      ]
     },
     "metadata": {},
     "output_type": "display_data"
    }
   ],
   "source": [
    "#Take a look at the simulated time series\n",
    "plt.plot(x)\n",
    "plt.show()"
   ]
  },
  {
   "cell_type": "code",
   "execution_count": 5,
   "metadata": {
    "collapsed": true
   },
   "outputs": [],
   "source": [
    "def MLE_para(ts,Tlist,NN):\n",
    "    # ts: time series data\n",
    "    # Tlist: list of T (number of observations)\n",
    "    # NN: number of simulations\n",
    "    \n",
    "    res=[[Tlist[i],j, ARMA(ts[0:Tlist[i]],order=(1,0)).fit(method='mle').params[0],\n",
    "          ARMA(ts[0:Tlist[i]],order=(1,0)).fit(method='mle').params[1],\n",
    "          np.std(ARMA(ts[0:Tlist[i]],order=(1,0)).fit(method='mle').resid)] \n",
    "         for i in range(len(Tlist)) for j in range(NN)]\n",
    "    \n",
    "    df=pd.DataFrame(res,columns=['T','j','alpha_MLE','beta_MLE','sigma_MLE'])\n",
    "    res2=df.groupby(['T'])['alpha_MLE','beta_MLE','sigma_MLE'].mean()\n",
    "\n",
    "    return res2"
   ]
  },
  {
   "cell_type": "code",
   "execution_count": 6,
   "metadata": {
    "collapsed": false
   },
   "outputs": [
    {
     "name": "stdout",
     "output_type": "stream",
     "text": [
      "Computation time: 625.7637748718262 seconds\n"
     ]
    },
    {
     "data": {
      "text/html": [
       "<div>\n",
       "<table border=\"1\" class=\"dataframe\">\n",
       "  <thead>\n",
       "    <tr style=\"text-align: right;\">\n",
       "      <th></th>\n",
       "      <th>alpha_MLE</th>\n",
       "      <th>beta_MLE</th>\n",
       "      <th>sigma_MLE</th>\n",
       "    </tr>\n",
       "    <tr>\n",
       "      <th>T</th>\n",
       "      <th></th>\n",
       "      <th></th>\n",
       "      <th></th>\n",
       "    </tr>\n",
       "  </thead>\n",
       "  <tbody>\n",
       "    <tr>\n",
       "      <th>100</th>\n",
       "      <td>0.100578</td>\n",
       "      <td>0.571707</td>\n",
       "      <td>0.007020</td>\n",
       "    </tr>\n",
       "    <tr>\n",
       "      <th>250</th>\n",
       "      <td>0.099967</td>\n",
       "      <td>0.323486</td>\n",
       "      <td>0.005920</td>\n",
       "    </tr>\n",
       "    <tr>\n",
       "      <th>1250</th>\n",
       "      <td>0.100054</td>\n",
       "      <td>0.040868</td>\n",
       "      <td>0.005299</td>\n",
       "    </tr>\n",
       "  </tbody>\n",
       "</table>\n",
       "</div>"
      ],
      "text/plain": [
       "      alpha_MLE  beta_MLE  sigma_MLE\n",
       "T                                   \n",
       "100    0.100578  0.571707   0.007020\n",
       "250    0.099967  0.323486   0.005920\n",
       "1250   0.100054  0.040868   0.005299"
      ]
     },
     "execution_count": 6,
     "metadata": {},
     "output_type": "execute_result"
    }
   ],
   "source": [
    "startT=time.time()\n",
    "df1=MLE_para(x,T,N)\n",
    "endT=time.time()\n",
    "print('Computation time: %s seconds' %(endT-startT))\n",
    "df1"
   ]
  },
  {
   "cell_type": "code",
   "execution_count": 7,
   "metadata": {
    "collapsed": false
   },
   "outputs": [
    {
     "data": {
      "text/html": [
       "<div>\n",
       "<table border=\"1\" class=\"dataframe\">\n",
       "  <thead>\n",
       "    <tr style=\"text-align: right;\">\n",
       "      <th></th>\n",
       "      <th>T</th>\n",
       "      <th>alpha_MLE</th>\n",
       "      <th>beta_MLE</th>\n",
       "      <th>sigma_MLE</th>\n",
       "    </tr>\n",
       "  </thead>\n",
       "  <tbody>\n",
       "    <tr>\n",
       "      <th>0</th>\n",
       "      <td>100</td>\n",
       "      <td>0.100578</td>\n",
       "      <td>0.571707</td>\n",
       "      <td>0.007020</td>\n",
       "    </tr>\n",
       "    <tr>\n",
       "      <th>1</th>\n",
       "      <td>250</td>\n",
       "      <td>0.099967</td>\n",
       "      <td>0.323486</td>\n",
       "      <td>0.005920</td>\n",
       "    </tr>\n",
       "    <tr>\n",
       "      <th>2</th>\n",
       "      <td>1250</td>\n",
       "      <td>0.100054</td>\n",
       "      <td>0.040868</td>\n",
       "      <td>0.005299</td>\n",
       "    </tr>\n",
       "  </tbody>\n",
       "</table>\n",
       "</div>"
      ],
      "text/plain": [
       "      T  alpha_MLE  beta_MLE  sigma_MLE\n",
       "0   100   0.100578  0.571707   0.007020\n",
       "1   250   0.099967  0.323486   0.005920\n",
       "2  1250   0.100054  0.040868   0.005299"
      ]
     },
     "execution_count": 7,
     "metadata": {},
     "output_type": "execute_result"
    }
   ],
   "source": [
    "df1.reset_index(inplace=True)\n",
    "df1"
   ]
  },
  {
   "cell_type": "code",
   "execution_count": 8,
   "metadata": {
    "collapsed": false
   },
   "outputs": [
    {
     "data": {
      "text/html": [
       "<div>\n",
       "<table border=\"1\" class=\"dataframe\">\n",
       "  <thead>\n",
       "    <tr style=\"text-align: right;\">\n",
       "      <th></th>\n",
       "      <th>T</th>\n",
       "      <th>alpha</th>\n",
       "      <th>beta</th>\n",
       "      <th>sigma</th>\n",
       "    </tr>\n",
       "  </thead>\n",
       "  <tbody>\n",
       "    <tr>\n",
       "      <th>i</th>\n",
       "      <td>100</td>\n",
       "      <td>0.1</td>\n",
       "      <td>0.3</td>\n",
       "      <td>0.005</td>\n",
       "    </tr>\n",
       "    <tr>\n",
       "      <th>ii</th>\n",
       "      <td>250</td>\n",
       "      <td>0.1</td>\n",
       "      <td>0.3</td>\n",
       "      <td>0.005</td>\n",
       "    </tr>\n",
       "    <tr>\n",
       "      <th>iii</th>\n",
       "      <td>1250</td>\n",
       "      <td>0.1</td>\n",
       "      <td>0.3</td>\n",
       "      <td>0.005</td>\n",
       "    </tr>\n",
       "  </tbody>\n",
       "</table>\n",
       "</div>"
      ],
      "text/plain": [
       "        T  alpha  beta  sigma\n",
       "i     100    0.1   0.3  0.005\n",
       "ii    250    0.1   0.3  0.005\n",
       "iii  1250    0.1   0.3  0.005"
      ]
     },
     "execution_count": 8,
     "metadata": {},
     "output_type": "execute_result"
    }
   ],
   "source": [
    "df_true=pd.DataFrame({'T':T,'alpha':alpha,'beta':beta,'sigma':sigma},index=['i','ii','iii'])\n",
    "df_true"
   ]
  },
  {
   "cell_type": "code",
   "execution_count": 9,
   "metadata": {
    "collapsed": false
   },
   "outputs": [
    {
     "data": {
      "text/html": [
       "<div>\n",
       "<table border=\"1\" class=\"dataframe\">\n",
       "  <thead>\n",
       "    <tr style=\"text-align: right;\">\n",
       "      <th></th>\n",
       "      <th>T</th>\n",
       "      <th>alpha</th>\n",
       "      <th>beta</th>\n",
       "      <th>sigma</th>\n",
       "      <th>alpha_MLE</th>\n",
       "      <th>beta_MLE</th>\n",
       "      <th>sigma_MLE</th>\n",
       "    </tr>\n",
       "  </thead>\n",
       "  <tbody>\n",
       "    <tr>\n",
       "      <th>0</th>\n",
       "      <td>100</td>\n",
       "      <td>0.1</td>\n",
       "      <td>0.3</td>\n",
       "      <td>0.005</td>\n",
       "      <td>0.100578</td>\n",
       "      <td>0.571707</td>\n",
       "      <td>0.007020</td>\n",
       "    </tr>\n",
       "    <tr>\n",
       "      <th>1</th>\n",
       "      <td>250</td>\n",
       "      <td>0.1</td>\n",
       "      <td>0.3</td>\n",
       "      <td>0.005</td>\n",
       "      <td>0.099967</td>\n",
       "      <td>0.323486</td>\n",
       "      <td>0.005920</td>\n",
       "    </tr>\n",
       "    <tr>\n",
       "      <th>2</th>\n",
       "      <td>1250</td>\n",
       "      <td>0.1</td>\n",
       "      <td>0.3</td>\n",
       "      <td>0.005</td>\n",
       "      <td>0.100054</td>\n",
       "      <td>0.040868</td>\n",
       "      <td>0.005299</td>\n",
       "    </tr>\n",
       "  </tbody>\n",
       "</table>\n",
       "</div>"
      ],
      "text/plain": [
       "      T  alpha  beta  sigma  alpha_MLE  beta_MLE  sigma_MLE\n",
       "0   100    0.1   0.3  0.005   0.100578  0.571707   0.007020\n",
       "1   250    0.1   0.3  0.005   0.099967  0.323486   0.005920\n",
       "2  1250    0.1   0.3  0.005   0.100054  0.040868   0.005299"
      ]
     },
     "execution_count": 9,
     "metadata": {},
     "output_type": "execute_result"
    }
   ],
   "source": [
    "df_q1=df_true.merge(df1,how='inner')\n",
    "df_q1"
   ]
  },
  {
   "cell_type": "markdown",
   "metadata": {},
   "source": [
    "Table 1 Comparasion of simulated parameters with true values"
   ]
  },
  {
   "cell_type": "markdown",
   "metadata": {},
   "source": [
    "### Observation of Q1\n",
    "* The fitted parameters are roughtly consistent with the true values\n",
    "* Simulated parameters alpha and sigma converge to the true values, however, the simulated beta does not converge"
   ]
  },
  {
   "cell_type": "markdown",
   "metadata": {},
   "source": [
    "### Answer of Q2"
   ]
  },
  {
   "cell_type": "code",
   "execution_count": 10,
   "metadata": {
    "collapsed": true
   },
   "outputs": [],
   "source": [
    "# Get the data\n",
    "def get_data():\n",
    "    # Use end of the day (LAST) rates\n",
    "    # Get the data of FEDL01\n",
    "    # Daily\n",
    "    df_FD=pd.read_excel(io='datasets/FEDL01.xlsx',sheetname=0,parse_cols=\"A:B\",skiprows=5)\n",
    "    # Weekly\n",
    "    df_FW=pd.read_excel(io='datasets/FEDL01.xlsx',sheetname=1,parse_cols=\"A:B\",skiprows=5)\n",
    "    # Monthly\n",
    "    df_FM=pd.read_excel(io='datasets/FEDL01.xlsx',sheetname=2,parse_cols=\"A:B\",skiprows=5)\n",
    "    # Quarterly\n",
    "    df_FQ=pd.read_excel(io='datasets/FEDL01.xlsx',sheetname=3,parse_cols=\"A:B\",skiprows=5)\n",
    "    # Yearly\n",
    "    df_FY=pd.read_excel(io='datasets/FEDL01.xlsx',sheetname=4,parse_cols=\"A:B\",skiprows=5)\n",
    "    \n",
    "    # Get the data of EUORDEPO\n",
    "    # Daily\n",
    "    df_ED=pd.read_excel(io='datasets/EUORDEPO.xlsx',sheetname=0,parse_cols=\"A:B\",skiprows=5)\n",
    "    # Weekly\n",
    "    df_EW=pd.read_excel(io='datasets/EUORDEPO.xlsx',sheetname=1,parse_cols=\"A:B\",skiprows=5)\n",
    "    # Monthly\n",
    "    df_EM=pd.read_excel(io='datasets/EUORDEPO.xlsx',sheetname=2,parse_cols=\"A:B\",skiprows=5)\n",
    "    # Quarterly\n",
    "    df_EQ=pd.read_excel(io='datasets/EUORDEPO.xlsx',sheetname=3,parse_cols=\"A:B\",skiprows=5)\n",
    "    # Yearly\n",
    "    df_EY=pd.read_excel(io='datasets/EUORDEPO.xlsx',sheetname=4,parse_cols=\"A:B\",skiprows=5)\n",
    "    \n",
    "    # Get the data of usd/eur fx-rate (using PX_LAST)\n",
    "    # Daily\n",
    "    df_FXD=pd.read_excel(io='datasets/usdeur.xlsx',sheetname=0,parse_cols=\"A:B\",skiprows=1)\n",
    "    # Weekly\n",
    "    df_FXW=pd.read_excel(io='datasets/usdeur.xlsx',sheetname=1,parse_cols=\"A:B\",skiprows=1)\n",
    "    # Monthly\n",
    "    df_FXM=pd.read_excel(io='datasets/usdeur.xlsx',sheetname=2,parse_cols=\"A:B\",skiprows=1)\n",
    "    # Quarterly\n",
    "    df_FXQ=pd.read_excel(io='datasets/usdeur.xlsx',sheetname=3,parse_cols=\"A:B\",skiprows=1)\n",
    "    # Yearly\n",
    "    df_FXY=pd.read_excel(io='datasets/usdeur.xlsx',sheetname=4,parse_cols=\"A:B\",skiprows=1)\n",
    " \n",
    "    # Rename the column in the FX dataframes\n",
    "    df_FXD.columns=['Date','USD/EUR_FX-rate']\n",
    "    df_FXW.columns=['Date','USD/EUR_FX-rate']\n",
    "    df_FXM.columns=['Date','USD/EUR_FX-rate']\n",
    "    df_FXQ.columns=['Date','USD/EUR_FX-rate']\n",
    "    df_FXY.columns=['Date','USD/EUR_FX-rate']\n",
    "    \n",
    "    # Sort the dataframe by date from earliest to newest\n",
    "    df_ED.sort_values(by='Date',ascending=True,inplace=True)\n",
    "    df_EW.sort_values(by='Date',ascending=True,inplace=True)\n",
    "    df_EM.sort_values(by='Date',ascending=True,inplace=True)\n",
    "    df_EQ.sort_values(by='Date',ascending=True,inplace=True)\n",
    "    df_EY.sort_values(by='Date',ascending=True,inplace=True)\n",
    "\n",
    "    df_FD.sort_values(by='Date',ascending=True,inplace=True)\n",
    "    df_FW.sort_values(by='Date',ascending=True,inplace=True)\n",
    "    df_FM.sort_values(by='Date',ascending=True,inplace=True)\n",
    "    df_FQ.sort_values(by='Date',ascending=True,inplace=True)\n",
    "    df_FY.sort_values(by='Date',ascending=True,inplace=True)\n",
    "\n",
    "    # df_FX* are already sorted by 'Date'\n",
    "        \n",
    "    # Get the differences between EUORDEPO and FEDL01\n",
    "    df_FXD['FEDL01-EUORDEPO']=df_FD['PX_LAST']-df_ED['PX_LAST']\n",
    "    df_FXW['FEDL01-EUORDEPO']=df_FW['PX_LAST']-df_EW['PX_LAST']\n",
    "    df_FXM['FEDL01-EUORDEPO']=df_FM['PX_LAST']-df_EM['PX_LAST']\n",
    "    df_FXQ['FEDL01-EUORDEPO']=df_FQ['PX_LAST']-df_EQ['PX_LAST']\n",
    "    df_FXY['FEDL01-EUORDEPO']=df_FY['PX_LAST']-df_EY['PX_LAST']\n",
    "    \n",
    "    \n",
    "    \n",
    "    return df_FXD, df_FXW, df_FXM, df_FXQ, df_FXY   "
   ]
  },
  {
   "cell_type": "code",
   "execution_count": 11,
   "metadata": {
    "collapsed": false
   },
   "outputs": [],
   "source": [
    "df_D, df_W, df_M, df_Q, df_Y=get_data()\n",
    "# Add the u_t by the effect of cointegration vector alpha\n",
    "df_D['Xt-Yt']=df_D['USD/EUR_FX-rate']-df_D['FEDL01-EUORDEPO']\n",
    "df_W['Xt-Yt']=df_W['USD/EUR_FX-rate']-df_W['FEDL01-EUORDEPO']\n",
    "df_M['Xt-Yt']=df_M['USD/EUR_FX-rate']-df_M['FEDL01-EUORDEPO']\n",
    "df_Q['Xt-Yt']=df_Q['USD/EUR_FX-rate']-df_Q['FEDL01-EUORDEPO']\n",
    "df_Y['Xt-Yt']=df_Y['USD/EUR_FX-rate']-df_Y['FEDL01-EUORDEPO']"
   ]
  },
  {
   "cell_type": "code",
   "execution_count": 12,
   "metadata": {
    "collapsed": false
   },
   "outputs": [
    {
     "data": {
      "text/html": [
       "<div>\n",
       "<table border=\"1\" class=\"dataframe\">\n",
       "  <thead>\n",
       "    <tr style=\"text-align: right;\">\n",
       "      <th></th>\n",
       "      <th>Date</th>\n",
       "      <th>USD/EUR_FX-rate</th>\n",
       "      <th>FEDL01-EUORDEPO</th>\n",
       "      <th>Xt-Yt</th>\n",
       "    </tr>\n",
       "  </thead>\n",
       "  <tbody>\n",
       "    <tr>\n",
       "      <th>0</th>\n",
       "      <td>2002-02-20</td>\n",
       "      <td>1.1497</td>\n",
       "      <td>1.06</td>\n",
       "      <td>0.0897</td>\n",
       "    </tr>\n",
       "    <tr>\n",
       "      <th>1</th>\n",
       "      <td>2002-02-21</td>\n",
       "      <td>1.1489</td>\n",
       "      <td>1.06</td>\n",
       "      <td>0.0889</td>\n",
       "    </tr>\n",
       "    <tr>\n",
       "      <th>2</th>\n",
       "      <td>2002-02-22</td>\n",
       "      <td>1.1422</td>\n",
       "      <td>1.06</td>\n",
       "      <td>0.0822</td>\n",
       "    </tr>\n",
       "    <tr>\n",
       "      <th>3</th>\n",
       "      <td>2002-02-25</td>\n",
       "      <td>1.1501</td>\n",
       "      <td>1.06</td>\n",
       "      <td>0.0901</td>\n",
       "    </tr>\n",
       "    <tr>\n",
       "      <th>4</th>\n",
       "      <td>2002-02-26</td>\n",
       "      <td>1.1574</td>\n",
       "      <td>1.06</td>\n",
       "      <td>0.0974</td>\n",
       "    </tr>\n",
       "  </tbody>\n",
       "</table>\n",
       "</div>"
      ],
      "text/plain": [
       "        Date  USD/EUR_FX-rate  FEDL01-EUORDEPO   Xt-Yt\n",
       "0 2002-02-20           1.1497             1.06  0.0897\n",
       "1 2002-02-21           1.1489             1.06  0.0889\n",
       "2 2002-02-22           1.1422             1.06  0.0822\n",
       "3 2002-02-25           1.1501             1.06  0.0901\n",
       "4 2002-02-26           1.1574             1.06  0.0974"
      ]
     },
     "execution_count": 12,
     "metadata": {},
     "output_type": "execute_result"
    }
   ],
   "source": [
    "df_D.head()"
   ]
  },
  {
   "cell_type": "markdown",
   "metadata": {},
   "source": [
    "Table 2 Overview of the combined Daily data"
   ]
  },
  {
   "cell_type": "code",
   "execution_count": 13,
   "metadata": {
    "collapsed": false
   },
   "outputs": [
    {
     "data": {
      "text/html": [
       "<div>\n",
       "<table border=\"1\" class=\"dataframe\">\n",
       "  <thead>\n",
       "    <tr style=\"text-align: right;\">\n",
       "      <th></th>\n",
       "      <th>Date</th>\n",
       "      <th>USD/EUR_FX-rate</th>\n",
       "      <th>FEDL01-EUORDEPO</th>\n",
       "      <th>Xt-Yt</th>\n",
       "    </tr>\n",
       "  </thead>\n",
       "  <tbody>\n",
       "    <tr>\n",
       "      <th>0</th>\n",
       "      <td>2002-12-31</td>\n",
       "      <td>0.9529</td>\n",
       "      <td>0.53</td>\n",
       "      <td>0.4229</td>\n",
       "    </tr>\n",
       "    <tr>\n",
       "      <th>1</th>\n",
       "      <td>2003-12-31</td>\n",
       "      <td>0.7940</td>\n",
       "      <td>0.39</td>\n",
       "      <td>0.4040</td>\n",
       "    </tr>\n",
       "    <tr>\n",
       "      <th>2</th>\n",
       "      <td>2004-12-31</td>\n",
       "      <td>0.7378</td>\n",
       "      <td>0.31</td>\n",
       "      <td>0.4278</td>\n",
       "    </tr>\n",
       "    <tr>\n",
       "      <th>3</th>\n",
       "      <td>2005-12-30</td>\n",
       "      <td>0.8440</td>\n",
       "      <td>0.14</td>\n",
       "      <td>0.7040</td>\n",
       "    </tr>\n",
       "    <tr>\n",
       "      <th>4</th>\n",
       "      <td>2006-12-29</td>\n",
       "      <td>0.7577</td>\n",
       "      <td>0.10</td>\n",
       "      <td>0.6577</td>\n",
       "    </tr>\n",
       "  </tbody>\n",
       "</table>\n",
       "</div>"
      ],
      "text/plain": [
       "        Date  USD/EUR_FX-rate  FEDL01-EUORDEPO   Xt-Yt\n",
       "0 2002-12-31           0.9529             0.53  0.4229\n",
       "1 2003-12-31           0.7940             0.39  0.4040\n",
       "2 2004-12-31           0.7378             0.31  0.4278\n",
       "3 2005-12-30           0.8440             0.14  0.7040\n",
       "4 2006-12-29           0.7577             0.10  0.6577"
      ]
     },
     "execution_count": 13,
     "metadata": {},
     "output_type": "execute_result"
    }
   ],
   "source": [
    "df_Y.head()"
   ]
  },
  {
   "cell_type": "markdown",
   "metadata": {},
   "source": [
    "Table 3 Overview of the combined yearly data"
   ]
  },
  {
   "cell_type": "markdown",
   "metadata": {},
   "source": [
    "#### Cointegration Test"
   ]
  },
  {
   "cell_type": "markdown",
   "metadata": {},
   "source": [
    "* Test steps:\n",
    "\n",
    "    * Step one: test the $X_t$ and $Y_t$ are $I(1)$\n",
    "    * Step two is given with $\\alpha=(1,-1)^T$\n",
    "    * Step three: test the new time series $u_t=a^T (Xt,Yt)^T$\n",
    "    * $X_t$=USD/EUR_FX-rate\n",
    "    * $Y_t$=FEDL01-EUORDEPO\n",
    "    * $u_t=a^T (Xt,Yt)^T=X_t-Y_t$"
   ]
  },
  {
   "cell_type": "markdown",
   "metadata": {},
   "source": [
    "* Define the test funtion to test whether a time series is stationary with **confidence interval 99%**"
   ]
  },
  {
   "cell_type": "code",
   "execution_count": 14,
   "metadata": {
    "collapsed": true
   },
   "outputs": [],
   "source": [
    "def stationary_test(TsData,CI):\n",
    "    # TsData: to be tested time series data\n",
    "    # CI: the critical value for test statistic, string of 1%, 5%, or 10%\n",
    "    res=tsa.adfuller(TsData)\n",
    "    \n",
    "    if(res[0]>res[4][CI]):\n",
    "        return (res[0],res[4][CI],'stationary')\n",
    "    else:\n",
    "        return (res[0],res[4][CI],'non-stationary')"
   ]
  },
  {
   "cell_type": "markdown",
   "metadata": {},
   "source": [
    "* **Test the daily data**"
   ]
  },
  {
   "cell_type": "code",
   "execution_count": 15,
   "metadata": {
    "collapsed": true
   },
   "outputs": [],
   "source": [
    "# Add dropna to avoid null value in the dataframe \n",
    "# (mismatching trading date between USD and EUR, e.g., hollidays)\n",
    "# Step one: test the X_t and Y_t are I(1)\n",
    "res_DE=stationary_test(df_D['USD/EUR_FX-rate'].dropna(),'1%')\n",
    "res_DF=stationary_test(df_D['FEDL01-EUORDEPO'].dropna(),'1%')\n",
    "# Step two is given with a=(1,-1)^T\n",
    "# Step three: test the new time series u_t=a^T(Xt,Yt)^T\n",
    "res_DDiff=stationary_test(df_D['Xt-Yt'].dropna(),'1%')\n",
    "res_DE=list(res_DE)\n",
    "res_DF=list(res_DF)\n",
    "res_DDiff=list(res_DDiff)\n",
    "res_DE.append('Daily')\n",
    "res_DF.append('Daily')\n",
    "res_DDiff.append('Daily')\n",
    "res_D=pd.DataFrame({'D_USD/EUR_FX-rate':res_DE,'D_FEDL01-EUORDEPO':res_DF,'D_Xt-Yt':res_DDiff},\n",
    "                index=['adf(test statistic)','CI value','stationary/non-stationary','dataset'])"
   ]
  },
  {
   "cell_type": "markdown",
   "metadata": {},
   "source": [
    "* **Test weekly data**"
   ]
  },
  {
   "cell_type": "code",
   "execution_count": 16,
   "metadata": {
    "collapsed": true
   },
   "outputs": [],
   "source": [
    "# Step one: test the X_t and Y_t are I(1)\n",
    "res_WE=stationary_test(df_W['USD/EUR_FX-rate'].dropna(),'1%')\n",
    "res_WF=stationary_test(df_W['FEDL01-EUORDEPO'].dropna(),'1%')\n",
    "# Step two is given with a=(1,-1)^T\n",
    "# Step three: test the new time series u_t=a^T(Xt,Yt)^T\n",
    "res_WDiff=stationary_test(df_W['Xt-Yt'].dropna(),'1%')\n",
    "res_WE=list(res_WE)\n",
    "res_WF=list(res_WF)\n",
    "res_WDiff=list(res_WDiff)\n",
    "res_WE.append('Weekly')\n",
    "res_WF.append('Weekly')\n",
    "res_WDiff.append('Weekly')\n",
    "res_W=pd.DataFrame({'W_USD/EUR_FX-rate':res_WE,'W_FEDL01-EUORDEPO':res_WF,'W_Xt-Yt':res_WDiff},\n",
    "                index=['adf(test statistic)','CI value','stationary/non-stationary','dataset'])"
   ]
  },
  {
   "cell_type": "markdown",
   "metadata": {},
   "source": [
    "\n",
    "* **Test the monthly data**"
   ]
  },
  {
   "cell_type": "code",
   "execution_count": 17,
   "metadata": {
    "collapsed": false
   },
   "outputs": [],
   "source": [
    "# Step one: test the X_t and Y_t are I(1)\n",
    "res_ME=stationary_test(df_M['USD/EUR_FX-rate'].dropna(),'1%')\n",
    "res_MF=stationary_test(df_M['FEDL01-EUORDEPO'].dropna(),'1%')\n",
    "# Step two is given with a=(1,-1)^T\n",
    "# Step three: test the new time series u_t=a^T(Xt,Yt)^T\n",
    "res_MDiff=stationary_test(df_M['Xt-Yt'].dropna(),'1%')\n",
    "res_ME=list(res_ME)\n",
    "res_MF=list(res_MF)\n",
    "res_MDiff=list(res_MDiff)\n",
    "res_ME.append('Monthly')\n",
    "res_MF.append('Monthly')\n",
    "res_MDiff.append('Monthly')\n",
    "res_M=pd.DataFrame({'M_USD/EUR_FX-rate':res_ME,'M_FEDL01-EUORDEPO':res_MF,'M_Xt-Yt':res_MDiff},\n",
    "                index=['adf(test statistic)','CI value','stationary/non-stationary','dataset'])"
   ]
  },
  {
   "cell_type": "markdown",
   "metadata": {},
   "source": [
    "#### Test quarterly data"
   ]
  },
  {
   "cell_type": "code",
   "execution_count": 18,
   "metadata": {
    "collapsed": false
   },
   "outputs": [],
   "source": [
    "# Step one: test the X_t and Y_t are I(1)\n",
    "res_QE=stationary_test(df_Q['USD/EUR_FX-rate'].dropna(),'1%')\n",
    "res_QF=stationary_test(df_Q['FEDL01-EUORDEPO'].dropna(),'1%')\n",
    "# Step two is given with a=(1,-1)^T\n",
    "# Step three: test the new time series u_t=a^T(Xt,Yt)^T\n",
    "res_QDiff=stationary_test(df_Q['Xt-Yt'].dropna(),'1%')\n",
    "res_QE=list(res_QE)\n",
    "res_QF=list(res_QF)\n",
    "res_QDiff=list(res_QDiff)\n",
    "res_QE.append('Quarterly')\n",
    "res_QF.append('Quarterly')\n",
    "res_QDiff.append('Quarterly')\n",
    "res_Q=pd.DataFrame({'Q_USD/EUR_FX-rate':res_QE,'Q_FEDL01-EUORDEPO':res_QF,'Q_Xt-Yt':res_QDiff},\n",
    "                index=['adf(test statistic)','CI value','stationary/non-stationary','dataset'])"
   ]
  },
  {
   "cell_type": "markdown",
   "metadata": {},
   "source": [
    "* **Test yearly data**"
   ]
  },
  {
   "cell_type": "code",
   "execution_count": 19,
   "metadata": {
    "collapsed": false
   },
   "outputs": [
    {
     "name": "stderr",
     "output_type": "stream",
     "text": [
      "/Users/hongchao/anaconda/lib/python3.5/site-packages/statsmodels/regression/linear_model.py:1148: RuntimeWarning: divide by zero encountered in double_scalars\n",
      "  return np.dot(wresid, wresid) / self.df_resid\n"
     ]
    }
   ],
   "source": [
    "# Step one: test the X_t and Y_t are I(1)\n",
    "res_YE=stationary_test(df_Y['USD/EUR_FX-rate'].dropna(),'1%')\n",
    "res_YF=stationary_test(df_Y['FEDL01-EUORDEPO'].dropna(),'1%')\n",
    "# Step two is given with a=(1,-1)^T\n",
    "# Step three: test the new time series u_t=a^T(Xt,Yt)^T\n",
    "res_YDiff=stationary_test(df_Y['Xt-Yt'].dropna(),'1%')\n",
    "res_YE=list(res_YE)\n",
    "res_YF=list(res_YF)\n",
    "res_YDiff=list(res_YDiff)\n",
    "res_YE.append('Yearly')\n",
    "res_YF.append('Yearly')\n",
    "res_YDiff.append('Yearly')\n",
    "res_Y=pd.DataFrame({'Y_USD/EUR_FX-rate':res_YE,'Y_FEDL01-EUORDEPO':res_YF,'Y_Xt-Yt':res_YDiff},\n",
    "                index=['adf(test statistic)','CI value','stationary/non-stationary','dataset'])"
   ]
  },
  {
   "cell_type": "code",
   "execution_count": 20,
   "metadata": {
    "collapsed": false
   },
   "outputs": [
    {
     "data": {
      "text/html": [
       "<div>\n",
       "<table border=\"1\" class=\"dataframe\">\n",
       "  <thead>\n",
       "    <tr style=\"text-align: right;\">\n",
       "      <th></th>\n",
       "      <th>D_FEDL01-EUORDEPO</th>\n",
       "      <th>D_USD/EUR_FX-rate</th>\n",
       "      <th>D_Xt-Yt</th>\n",
       "      <th>W_FEDL01-EUORDEPO</th>\n",
       "      <th>W_USD/EUR_FX-rate</th>\n",
       "      <th>W_Xt-Yt</th>\n",
       "      <th>M_FEDL01-EUORDEPO</th>\n",
       "      <th>M_USD/EUR_FX-rate</th>\n",
       "      <th>M_Xt-Yt</th>\n",
       "      <th>Q_FEDL01-EUORDEPO</th>\n",
       "      <th>Q_USD/EUR_FX-rate</th>\n",
       "      <th>Q_Xt-Yt</th>\n",
       "      <th>Y_FEDL01-EUORDEPO</th>\n",
       "      <th>Y_USD/EUR_FX-rate</th>\n",
       "      <th>Y_Xt-Yt</th>\n",
       "    </tr>\n",
       "  </thead>\n",
       "  <tbody>\n",
       "    <tr>\n",
       "      <th>adf(test statistic)</th>\n",
       "      <td>-0.910243</td>\n",
       "      <td>-3.32562</td>\n",
       "      <td>-0.80936</td>\n",
       "      <td>-1.8592</td>\n",
       "      <td>-3.25526</td>\n",
       "      <td>-2.03443</td>\n",
       "      <td>-2.09317</td>\n",
       "      <td>-3.46007</td>\n",
       "      <td>-2.11865</td>\n",
       "      <td>-2.15852</td>\n",
       "      <td>-3.61292</td>\n",
       "      <td>-2.13703</td>\n",
       "      <td>-0</td>\n",
       "      <td>-0</td>\n",
       "      <td>-2.49839</td>\n",
       "    </tr>\n",
       "    <tr>\n",
       "      <th>CI value</th>\n",
       "      <td>-3.43209</td>\n",
       "      <td>-3.43202</td>\n",
       "      <td>-3.43209</td>\n",
       "      <td>-3.43897</td>\n",
       "      <td>-3.43874</td>\n",
       "      <td>-3.43888</td>\n",
       "      <td>-3.46806</td>\n",
       "      <td>-3.46742</td>\n",
       "      <td>-3.46806</td>\n",
       "      <td>-3.54849</td>\n",
       "      <td>-3.54639</td>\n",
       "      <td>-3.54849</td>\n",
       "      <td>-6.04511</td>\n",
       "      <td>-4.66519</td>\n",
       "      <td>-4.66519</td>\n",
       "    </tr>\n",
       "    <tr>\n",
       "      <th>stationary/non-stationary</th>\n",
       "      <td>stationary</td>\n",
       "      <td>stationary</td>\n",
       "      <td>stationary</td>\n",
       "      <td>stationary</td>\n",
       "      <td>stationary</td>\n",
       "      <td>stationary</td>\n",
       "      <td>stationary</td>\n",
       "      <td>stationary</td>\n",
       "      <td>stationary</td>\n",
       "      <td>stationary</td>\n",
       "      <td>non-stationary</td>\n",
       "      <td>stationary</td>\n",
       "      <td>stationary</td>\n",
       "      <td>stationary</td>\n",
       "      <td>stationary</td>\n",
       "    </tr>\n",
       "    <tr>\n",
       "      <th>dataset</th>\n",
       "      <td>Daily</td>\n",
       "      <td>Daily</td>\n",
       "      <td>Daily</td>\n",
       "      <td>Weekly</td>\n",
       "      <td>Weekly</td>\n",
       "      <td>Weekly</td>\n",
       "      <td>Monthly</td>\n",
       "      <td>Monthly</td>\n",
       "      <td>Monthly</td>\n",
       "      <td>Quarterly</td>\n",
       "      <td>Quarterly</td>\n",
       "      <td>Quarterly</td>\n",
       "      <td>Yearly</td>\n",
       "      <td>Yearly</td>\n",
       "      <td>Yearly</td>\n",
       "    </tr>\n",
       "  </tbody>\n",
       "</table>\n",
       "</div>"
      ],
      "text/plain": [
       "                          D_FEDL01-EUORDEPO D_USD/EUR_FX-rate     D_Xt-Yt  \\\n",
       "adf(test statistic)               -0.910243          -3.32562    -0.80936   \n",
       "CI value                           -3.43209          -3.43202    -3.43209   \n",
       "stationary/non-stationary        stationary        stationary  stationary   \n",
       "dataset                               Daily             Daily       Daily   \n",
       "\n",
       "                          W_FEDL01-EUORDEPO W_USD/EUR_FX-rate     W_Xt-Yt  \\\n",
       "adf(test statistic)                 -1.8592          -3.25526    -2.03443   \n",
       "CI value                           -3.43897          -3.43874    -3.43888   \n",
       "stationary/non-stationary        stationary        stationary  stationary   \n",
       "dataset                              Weekly            Weekly      Weekly   \n",
       "\n",
       "                          M_FEDL01-EUORDEPO M_USD/EUR_FX-rate     M_Xt-Yt  \\\n",
       "adf(test statistic)                -2.09317          -3.46007    -2.11865   \n",
       "CI value                           -3.46806          -3.46742    -3.46806   \n",
       "stationary/non-stationary        stationary        stationary  stationary   \n",
       "dataset                             Monthly           Monthly     Monthly   \n",
       "\n",
       "                          Q_FEDL01-EUORDEPO Q_USD/EUR_FX-rate     Q_Xt-Yt  \\\n",
       "adf(test statistic)                -2.15852          -3.61292    -2.13703   \n",
       "CI value                           -3.54849          -3.54639    -3.54849   \n",
       "stationary/non-stationary        stationary    non-stationary  stationary   \n",
       "dataset                           Quarterly         Quarterly   Quarterly   \n",
       "\n",
       "                          Y_FEDL01-EUORDEPO Y_USD/EUR_FX-rate     Y_Xt-Yt  \n",
       "adf(test statistic)                      -0                -0    -2.49839  \n",
       "CI value                           -6.04511          -4.66519    -4.66519  \n",
       "stationary/non-stationary        stationary        stationary  stationary  \n",
       "dataset                              Yearly            Yearly      Yearly  "
      ]
     },
     "execution_count": 20,
     "metadata": {},
     "output_type": "execute_result"
    }
   ],
   "source": [
    "# Combine all the results\n",
    "df_q2=res_D.join([res_W,res_M,res_Q,res_Y],how='inner')\n",
    "df_q2"
   ]
  },
  {
   "cell_type": "markdown",
   "metadata": {},
   "source": [
    "Table 4 Cointegration test results with varity data sets"
   ]
  },
  {
   "cell_type": "markdown",
   "metadata": {},
   "source": [
    "#### Observation of Q2"
   ]
  },
  {
   "cell_type": "markdown",
   "metadata": {},
   "source": [
    "* All the time series are stationary (except the quarterly data of USD/EUR FX-rate)\n",
    "\n",
    "* The criterion of cointegration are:\n",
    "    * $X_t \\text{and} Y_t$ are $I(1)$, i.e., non-stationary\n",
    "    * $u_t=a^T (Xt,Yt)^T=X_t-Y_t$ is $I(0)$, i.e., stationary\n",
    "\n",
    "* The results shows in table 4 indicates that the two time seires are **not** cointegrated with vector $\\alpha=(1,-1)^T$, i.e., the proposed theory was not correct."
   ]
  },
  {
   "cell_type": "code",
   "execution_count": 21,
   "metadata": {
    "collapsed": false
   },
   "outputs": [
    {
     "name": "stdout",
     "output_type": "stream",
     "text": [
      "Running time of notebook: 631.76176404953 seconds\n"
     ]
    }
   ],
   "source": [
    "endTALL=time.time()\n",
    "print('Running time of notebook: %s seconds' %(endTALL-startTALL))"
   ]
  }
 ],
 "metadata": {
  "kernelspec": {
   "display_name": "Python [conda root]",
   "language": "python",
   "name": "conda-root-py"
  },
  "language_info": {
   "codemirror_mode": {
    "name": "ipython",
    "version": 3
   },
   "file_extension": ".py",
   "mimetype": "text/x-python",
   "name": "python",
   "nbconvert_exporter": "python",
   "pygments_lexer": "ipython3",
   "version": "3.5.2"
  }
 },
 "nbformat": 4,
 "nbformat_minor": 2
}
