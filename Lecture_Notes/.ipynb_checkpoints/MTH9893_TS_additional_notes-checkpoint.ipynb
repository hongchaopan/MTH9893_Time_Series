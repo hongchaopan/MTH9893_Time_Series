{
 "cells": [
  {
   "cell_type": "markdown",
   "metadata": {},
   "source": [
    "## Lecture 7"
   ]
  },
  {
   "cell_type": "markdown",
   "metadata": {},
   "source": [
    "** SABR discretized details**\n",
    "$$\n",
    "d\\sigma_t=\\alpha \\sigma_tdW_t\n",
    "$$\n",
    "Let $\\sigma_t=e^{X_t}$, $dX_t=-\\frac{1}{2}\\alpha^2dt+\\alpha dW_t$\n",
    "\n",
    "\n",
    "Discretized: $X_{t+1}=X_t+\\text{const}+\\alpha \\sqrt{dt}N(0,1)$\n",
    "\n",
    "$$\n",
    "\\frac{dF_t}{F^{\\beta}_t}=\\sigma_tdZ_t\n",
    "$$\n",
    "$\\Rightarrow$\n",
    "$$\n",
    "Y_t=\\frac{dF_t}{F^{\\beta}_t}=e^{X_t}dZ_t\n",
    "$$"
   ]
  },
  {
   "cell_type": "markdown",
   "metadata": {},
   "source": [
    "** Joint Smoothing distribution details**\n",
    "$$\n",
    "p(X_{0:t} | Y_{1:t})=\\frac{p(X_{0:t},Y_{1:t})}{p(Y_{1:t})}\n",
    "$$\n",
    "\n",
    "with $p(Y_{1:t})=p(Y_t,Y_{1:t-1})$, we have:\n",
    "\n",
    "$$\n",
    "=\\frac{p(Y_t|X_{0:t},Y_{1:t-1})p(X_{0:t},Y_{1:t-1})}{p(Y_t|Y_{1:t-1})p(Y_{1:t-1})} \\\\\n",
    "=\\frac{p(Y_t|X_{0:t},Y_{1:t-1})p(X_t|X_{0:t-1},Y_{1:t-1})}{p(Y_t|Y_{1:t-1})} \\cdot \\frac{p(X_{0:t-1},Y_{1:t-1})}{p(Y_{1:t-1})}\n",
    "$$"
   ]
  },
  {
   "cell_type": "code",
   "execution_count": null,
   "metadata": {
    "collapsed": true
   },
   "outputs": [],
   "source": []
  }
 ],
 "metadata": {
  "kernelspec": {
   "display_name": "Python [default]",
   "language": "python",
   "name": "python3"
  },
  "language_info": {
   "codemirror_mode": {
    "name": "ipython",
    "version": 3
   },
   "file_extension": ".py",
   "mimetype": "text/x-python",
   "name": "python",
   "nbconvert_exporter": "python",
   "pygments_lexer": "ipython3",
   "version": "3.5.2"
  }
 },
 "nbformat": 4,
 "nbformat_minor": 2
}
